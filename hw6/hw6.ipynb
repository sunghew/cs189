{
 "cells": [
  {
   "cell_type": "code",
   "execution_count": 280,
   "metadata": {
    "collapsed": false
   },
   "outputs": [],
   "source": [
    "import numpy as np\n",
    "import pandas as pd\n",
    "%matplotlib inline\n",
    "import matplotlib.pyplot as plt\n",
    "import scipy.io as sio\n",
    "from sklearn import preprocessing as pre\n",
    "import string\n",
    "from scipy.special import expit as sigmoid\n",
    "from __future__ import division"
   ]
  },
  {
   "cell_type": "code",
   "execution_count": 73,
   "metadata": {
    "collapsed": true
   },
   "outputs": [],
   "source": [
    "def print_letter(arr, label):\n",
    "    label = label-1\n",
    "    mnist_image = \"\"\n",
    "    for x in range(28 * 28 - 1):\n",
    "        if x % 28 == 0:\n",
    "            mnist_image += '\\n'\n",
    "        if (arr[x] == 0):\n",
    "            mnist_image += ' '\n",
    "        else:\n",
    "            mnist_image += '*'\n",
    "    print(mnist_image)\n",
    "    print list(string.ascii_lowercase)[label], label"
   ]
  },
  {
   "cell_type": "code",
   "execution_count": 213,
   "metadata": {
    "collapsed": false
   },
   "outputs": [],
   "source": [
    "data = sio.loadmat('hw6_data_dist/letters_data.mat')\n",
    "train_x = data['train_x']\n",
    "# train_y = data['train_y']\n",
    "train_y = np.ndarray.flatten(data['train_y'])\n",
    "\n",
    "X = np.append(train_x, np.ones((num_samples, 1), dtype='int'), axis=1)\n",
    "normalX = pre.normalize(X, axis=0)\n",
    "pre.scale(normalX, axis=0, copy=False)\n",
    "\n",
    "order = np.arange(normalX.shape[0])\n",
    "np.random.shuffle(order)\n",
    "shuffled_data = np.take(normalX, order, 0)\n",
    "shuffled_labels = np.take(train_y, order, 0)\n",
    "\n",
    "VALID_SPLIT = int(0.8 * train_x.shape[0])\n",
    "train_data, valid_data = shuffled_data[:VALID_SPLIT], shuffled_data[VALID_SPLIT:]\n",
    "train_labels, valid_labels = shuffled_labels[:VALID_SPLIT], shuffled_labels[VALID_SPLIT:]\n",
    "\n",
    "test = data['test_x']"
   ]
  },
  {
   "cell_type": "code",
   "execution_count": 129,
   "metadata": {
    "collapsed": true
   },
   "outputs": [],
   "source": [
    "num_samples = 124800\n",
    "d, b, k = 784, 200, 26"
   ]
  },
  {
   "cell_type": "code",
   "execution_count": 418,
   "metadata": {
    "collapsed": false
   },
   "outputs": [],
   "source": [
    "class NeuralNet:\n",
    "    def __init__(self, learning_rate, max_iterations):\n",
    "        self.learning_rate = learning_rate\n",
    "        self.max_iterations = max_iterations\n",
    "        \n",
    "        self.V = np.random.rand(b, d)\n",
    "        self.W = np.random.rand(k, b)\n",
    "        self.V = np.append(self.V, np.ones((b, 1), dtype='int'), axis=1)\n",
    "        self.W = np.append(self.W, np.ones((k, 1), dtype='int'), axis=1)\n",
    "        \n",
    "        self.originalV = self.V\n",
    "        self.originalW = self.W\n",
    "        \n",
    "        self.iterations = []\n",
    "        self.errors = []\n",
    "        \n",
    "    def train(self, images, labels):\n",
    "        for c in range(self.max_iterations):\n",
    "            r = np.random.randint(0, images.shape[0])\n",
    "            x = images[r].T\n",
    "            y = self.hot_encode(labels[r])\n",
    "            _, z, h = self.forward_pass(x)\n",
    "            if c % 10 == 0:\n",
    "                loss = self.cross_entropy_loss(z, y)\n",
    "                if not np.isnan(loss) and not np.isinf(loss):\n",
    "                    self.iterations.append(c)\n",
    "                    self.errors.append(loss)\n",
    "            gradwL, gradvL = self.backward_pass(x, h, z, y)\n",
    "            self.V = self.V - self.learning_rate * gradvL\n",
    "            self.W = self.W - self.learning_rate * gradwL\n",
    "            if c % int(self.max_iterations / 10) == 0:\n",
    "                print c // int(self.max_iterations / 10), c\n",
    "    \n",
    "    def predict(self, images):\n",
    "        predictions = []\n",
    "        for x in images:\n",
    "            label, _, __ = self.forward_pass(x)\n",
    "            predictions.append(label)\n",
    "        return predictions\n",
    "    \n",
    "    def validate(self, images, labels):\n",
    "        predictions = self.predict(images)\n",
    "        incorrect = 0\n",
    "        if len(labels) != len(images):\n",
    "            print 'Mismatch of labels ({}) and images ({})'.format(labels.shape, images.shape)\n",
    "        for i in range(len(labels)):\n",
    "#             print np.argmax(predictions[i])+1, labels[i]\n",
    "            if not np.array_equal(predictions[i], self.hot_encode(labels[i])):\n",
    "                incorrect += 1\n",
    "        print incorrect / len(labels)\n",
    "        return incorrect\n",
    "            \n",
    "    def hot_encode(self, y):\n",
    "        label = np.zeros((k, 1), dtype=int)\n",
    "        label[y-1] = 1\n",
    "        return label\n",
    "    \n",
    "    def cross_entropy_loss(self, z, y):\n",
    "        loss, lnz, inv_lnz = 0, np.log2(z), np.log2(1 - z)\n",
    "        for i in range(k):\n",
    "            loss += y[i] * lnz[i] + (1 - y[i]) * inv_lnz[i]\n",
    "        return -loss[0]\n",
    "    \n",
    "    def forward_pass(self, x):\n",
    "        Vx = self.V.dot(x)\n",
    "        h = np.append(np.tanh(Vx), [1], axis=0)\n",
    "        z = sigmoid(self.W.dot(h))\n",
    "        \n",
    "        # hot encode\n",
    "        i = np.argmax(z)\n",
    "        label = np.zeros((k, 1), dtype=int)\n",
    "        label[i] = 1\n",
    "    \n",
    "        return label, z, h\n",
    "    \n",
    "    def backward_pass(self, x, h, z, y):\n",
    "        x = np.reshape(x, (d+1, 1))\n",
    "        h = np.reshape(h, (b+1, 1))\n",
    "        z = np.reshape(z, (k, 1))\n",
    "        W = np.delete(self.W, -1, axis=1)\n",
    "        gradhL = W.T.dot(y-z)\n",
    "        gradvh = np.delete((1 - np.square(h)).dot(x.T), -1, axis=0)\n",
    "        gradvL = gradhL * gradvh\n",
    "        gradwL = np.outer(z-y, h)\n",
    "        return gradwL, gradvL"
   ]
  },
  {
   "cell_type": "code",
   "execution_count": null,
   "metadata": {
    "collapsed": false
   },
   "outputs": [
    {
     "name": "stdout",
     "output_type": "stream",
     "text": [
      "0 0\n"
     ]
    },
    {
     "name": "stderr",
     "output_type": "stream",
     "text": [
      "/Users/sunghew/anaconda/envs/python2/lib/python2.7/site-packages/ipykernel/__main__.py:59: RuntimeWarning: divide by zero encountered in log2\n",
      "/Users/sunghew/anaconda/envs/python2/lib/python2.7/site-packages/ipykernel/__main__.py:61: RuntimeWarning: invalid value encountered in multiply\n"
     ]
    }
   ],
   "source": [
    "neuralnet = NeuralNet(0.5, int(10e5))\n",
    "neuralnet.train(train_data, train_labels)"
   ]
  },
  {
   "cell_type": "code",
   "execution_count": null,
   "metadata": {
    "collapsed": false
   },
   "outputs": [],
   "source": [
    "incorrect = neuralnet.validate(train_data, train_labels)\n",
    "print incorrect, len(train_labels), incorrect / len(train_labels)"
   ]
  },
  {
   "cell_type": "code",
   "execution_count": null,
   "metadata": {
    "collapsed": false
   },
   "outputs": [],
   "source": [
    "incorrect = neuralnet.validate(valid_data, valid_labels)"
   ]
  },
  {
   "cell_type": "code",
   "execution_count": 170,
   "metadata": {
    "collapsed": false
   },
   "outputs": [
    {
     "name": "stdout",
     "output_type": "stream",
     "text": [
      "(201,)\n",
      "(26, 1)\n",
      "(201,)\n",
      "(99840,)\n",
      "(99840,)\n",
      "\n",
      "(785,)\n",
      "(785,)\n",
      "(785,)\n",
      "(785,)\n",
      "(785,)\n",
      "(785,)\n",
      "(785,)\n"
     ]
    }
   ],
   "source": [
    "V = np.random.rand(b, d)\n",
    "V = np.append(V, np.ones((b, 1), dtype='int'), axis=1)\n",
    "# print V.shape\n",
    "\n",
    "x = train_data[3].T\n",
    "h = V.dot(x)\n",
    "h = np.append(h, [1], axis=0)\n",
    "print(h.shape)\n",
    "\n",
    "W = np.random.rand(k, b)\n",
    "W = np.append(W, np.ones((k, 1), dtype='int'), axis=1)\n",
    "print W.dot(np.ones((b+1,1))).shape\n",
    "\n",
    "\n",
    "r = np.random.randint(0, train_data.shape[0])\n",
    "x = train_data[r].T\n",
    "Vx = V.dot(x)\n",
    "h = np.tanh(np.append(Vx, [1], axis=0))\n",
    "print h.shape\n",
    "\n",
    "print train_labels.shape\n",
    "\n",
    "print np.ndarray.flatten(train_labels).shape"
   ]
  }
 ],
 "metadata": {
  "anaconda-cloud": {},
  "kernelspec": {
   "display_name": "Python [conda env:python2]",
   "language": "python",
   "name": "conda-env-python2-py"
  },
  "language_info": {
   "codemirror_mode": {
    "name": "ipython",
    "version": 2
   },
   "file_extension": ".py",
   "mimetype": "text/x-python",
   "name": "python",
   "nbconvert_exporter": "python",
   "pygments_lexer": "ipython2",
   "version": "2.7.13"
  }
 },
 "nbformat": 4,
 "nbformat_minor": 1
}
