{
 "cells": [
  {
   "cell_type": "code",
   "execution_count": 1,
   "metadata": {
    "collapsed": false
   },
   "outputs": [],
   "source": [
    "import numpy as np\n",
    "%matplotlib inline\n",
    "import matplotlib.pyplot as plt\n",
    "import scipy.io as sio\n",
    "from sklearn import preprocessing as pre\n",
    "import string\n",
    "from scipy.special import expit as sigmoid\n",
    "from __future__ import division"
   ]
  },
  {
   "cell_type": "code",
   "execution_count": 2,
   "metadata": {
    "collapsed": true
   },
   "outputs": [],
   "source": [
    "def print_letter(arr, label):\n",
    "    label = label-1\n",
    "    mnist_image = \"\"\n",
    "    for x in range(28 * 28 - 1):\n",
    "        if x % 28 == 0:\n",
    "            mnist_image += '\\n'\n",
    "        if (arr[x] == 0):\n",
    "            mnist_image += ' '\n",
    "        else:\n",
    "            mnist_image += '*'\n",
    "    print(mnist_image)\n",
    "    print list(string.ascii_lowercase)[label], label"
   ]
  },
  {
   "cell_type": "code",
   "execution_count": 45,
   "metadata": {
    "collapsed": false
   },
   "outputs": [],
   "source": [
    "data = sio.loadmat('hw6_data_dist/letters_data.mat')\n",
    "train_x = data['train_x']\n",
    "train_y = np.ndarray.flatten(data['train_y'])\n",
    "\n",
    "order = np.arange(train_x.shape[0])\n",
    "np.random.shuffle(order)\n",
    "shuffled_data = np.take(train_x, order, 0)\n",
    "shuffled_labels = np.take(train_y, order, 0)\n",
    "\n",
    "VALID_SPLIT = int(0.8 * train_x.shape[0])\n",
    "train_data, valid_data = shuffled_data[:VALID_SPLIT], shuffled_data[VALID_SPLIT:]\n",
    "train_labels, valid_labels = shuffled_labels[:VALID_SPLIT], shuffled_labels[VALID_SPLIT:]\n",
    "\n",
    "test_data = data['test_x']\n",
    "\n",
    "\"\"\"We center all the data by the train_data mean since we're training on train_data\"\"\"\n",
    "# train_data = pre.normalize(train_data, axis=0)\n",
    "mean = np.mean(train_data, axis=0)\n",
    "train_data = (train_data - mean) / 255\n",
    "train_data = np.append(train_data, np.ones((len(train_data), 1), dtype='int'), axis=1)\n",
    "\n",
    "# valid_data = pre.normalize(valid_data, axis=0)\n",
    "valid_data = (valid_data - mean) / 255\n",
    "valid_data = np.append(valid_data, np.ones((len(valid_data), 1), dtype='int'), axis=1)\n",
    "\n",
    "all_data = (shuffled_data - mean) / 255\n",
    "all_data = np.append(all_data, np.ones((len(all_data), 1), dtype='int'), axis=1)\n",
    "\n",
    "# test_data = pre.normalize(test_data, axis=0)\n",
    "test_data = (test_data - mean) / 255\n",
    "test_data = np.append(test_data, np.ones((len(test_data), 1), dtype='int'), axis=1)"
   ]
  },
  {
   "cell_type": "code",
   "execution_count": 46,
   "metadata": {
    "collapsed": true
   },
   "outputs": [],
   "source": [
    "d, b, k = 784, 200, 26"
   ]
  },
  {
   "cell_type": "code",
   "execution_count": 47,
   "metadata": {
    "collapsed": false
   },
   "outputs": [],
   "source": [
    "class NeuralNet:\n",
    "    \"\"\" Initializes NeuralNet\n",
    "    :param layers: list layer sizes\n",
    "    :param learning_rate: learning rate for gradient descent\n",
    "    :param decay: scale learning_rate by decay at the end of each epoch\n",
    "    :param epochs: max number of epochs\n",
    "    \"\"\"\n",
    "    def __init__(self, learning_rate=0.01, decay=0.9, epochs=1):            \n",
    "        self.learning_rate = learning_rate\n",
    "        self.decay = decay\n",
    "        self.epochs = epochs\n",
    "        \n",
    "        self.V = np.random.rand(b, d) - 0.5\n",
    "        self.W = np.random.rand(k, b) - 0.5\n",
    "        self.V = np.append(self.V, np.ones((b, 1), dtype='int'), axis=1)\n",
    "        self.W = np.append(self.W, np.ones((k, 1), dtype='int'), axis=1)\n",
    "        \n",
    "    def train(self, images, labels):\n",
    "        for c in range(self.epochs):\n",
    "            print c\n",
    "            for x, y in zip(images, labels):\n",
    "                z, h = self.forward_pass(x)\n",
    "                y = self.hot_encode(y)\n",
    "                gradwL, gradvL = self.backward_pass(x, h, z, y)\n",
    "                self.V = self.V - self.learning_rate * gradvL\n",
    "                self.W = self.W - self.learning_rate * gradwL\n",
    "            self.learning_rate *= self.decay\n",
    "                    \n",
    "            order = np.arange(images.shape[0])\n",
    "            np.random.shuffle(order)\n",
    "            images = np.take(images, order, 0)\n",
    "            labels = np.take(labels, order, 0)\n",
    "    \n",
    "    def predict(self, images):\n",
    "        predictions = []\n",
    "        for x in images:\n",
    "            z, _ = self.forward_pass(x)\n",
    "            predictions.append(np.argmax(z) + 1)\n",
    "        return predictions\n",
    "    \n",
    "    def validate(self, images, labels):\n",
    "        predictions = self.predict(images)\n",
    "        correct = 0\n",
    "        if len(labels) != len(images):\n",
    "            print 'Mismatch of labels ({}) and images ({})'.format(labels.shape, images.shape)\n",
    "            \n",
    "        for i in range(len(labels)):\n",
    "            if predictions[i] == labels[i]:\n",
    "                correct += 1\n",
    "                \n",
    "        print correct / len(labels)\n",
    "        \n",
    "        return correct, predictions\n",
    "            \n",
    "    def hot_encode(self, y):\n",
    "        label = np.zeros((k, 1), dtype=int)\n",
    "        label[y-1] = 1\n",
    "        return label\n",
    "    \n",
    "    def cross_entropy_loss(self, z, y):\n",
    "        loss, lnz, inv_lnz = 0, np.log2(z), np.log2(1 - z)\n",
    "        for i in range(k):\n",
    "            loss += y[i] * lnz[i] + (1 - y[i]) * inv_lnz[i]\n",
    "        return -loss[0]\n",
    "    \n",
    "    def forward_pass(self, x):\n",
    "        Vx = self.V.dot(x)\n",
    "        h = np.append(np.tanh(Vx), [1], axis=0)\n",
    "        z = sigmoid(self.W.dot(h))\n",
    "        return z, h\n",
    "    \n",
    "    def backward_pass(self, x, h, z, y):\n",
    "        x = np.reshape(x, (x.shape[0], 1))\n",
    "        h = np.reshape(h, (h.shape[0], 1))\n",
    "        z = np.reshape(z, (z.shape[0], 1))\n",
    "        \n",
    "        gradhL = self.W.T.dot(z-y)\n",
    "        gradvh = 1 - np.square(h)\n",
    "        gradvL = np.outer(gradhL * gradvh, x)\n",
    "        gradvL = np.delete(gradvL, -1, axis=0)\n",
    "        gradwL = np.outer(z-y, h)\n",
    "        return gradwL, gradvL"
   ]
  },
  {
   "cell_type": "code",
   "execution_count": null,
   "metadata": {
    "collapsed": false
   },
   "outputs": [
    {
     "name": "stdout",
     "output_type": "stream",
     "text": [
      "0\n"
     ]
    }
   ],
   "source": [
    "nn2 = NeuralNet(epochs=5)\n",
    "nn2.train(train_data, train_labels)\n",
    "tincorrect, tpredictions = nn.validate(train_data, train_labels)\n",
    "vincorrect, vpredictions = nn.validate(valid_data, valid_labels)"
   ]
  },
  {
   "cell_type": "code",
   "execution_count": 41,
   "metadata": {
    "collapsed": false,
    "scrolled": false
   },
   "outputs": [
    {
     "name": "stdout",
     "output_type": "stream",
     "text": [
      "0\n"
     ]
    }
   ],
   "source": [
    "nn = NeuralNet(0.01, 0.9, 1)\n",
    "nn.train(train_data, train_labels)\n",
    "\n",
    "# small_data, small_labels = train_data[:100], train_labels[:100]\n",
    "# nn.train(small_data, small_labels)\n",
    "# correct, predictions = nn.validate(small_data, small_labels)\n",
    "# for pred, label in zip(predictions, small_labels):\n",
    "#     print pred, label, pred == label"
   ]
  },
  {
   "cell_type": "code",
   "execution_count": 42,
   "metadata": {
    "collapsed": false,
    "scrolled": true
   },
   "outputs": [
    {
     "name": "stdout",
     "output_type": "stream",
     "text": [
      "0.846143830128\n"
     ]
    }
   ],
   "source": [
    "incorrect = nn.validate(train_data, train_labels)"
   ]
  },
  {
   "cell_type": "code",
   "execution_count": 43,
   "metadata": {
    "collapsed": false
   },
   "outputs": [
    {
     "name": "stdout",
     "output_type": "stream",
     "text": [
      "0.827604166667\n"
     ]
    }
   ],
   "source": [
    "incorrect, predictions = nn.validate(valid_data, valid_labels)\n",
    "# for p, label in zip(predictions, valid_labels):\n",
    "#     print p, label\n",
    "# print incorrect / len(valid_labels), incorrect, len(valid_labels)"
   ]
  },
  {
   "cell_type": "code",
   "execution_count": 564,
   "metadata": {
    "collapsed": false
   },
   "outputs": [
    {
     "data": {
      "text/plain": [
       "(1, 15)"
      ]
     },
     "execution_count": 564,
     "metadata": {},
     "output_type": "execute_result"
    }
   ],
   "source": [
    "np.argmax(neuralnet.predict([valid_data[3122]])) + 1, valid_labels[1]"
   ]
  },
  {
   "cell_type": "code",
   "execution_count": null,
   "metadata": {
    "collapsed": true
   },
   "outputs": [],
   "source": [
    "if c % 10 == 0:\n",
    "    loss = self.cross_entropy_loss(z, y)\n",
    "    if not np.isnan(loss) and not np.isinf(loss):\n",
    "        self.iterations.append(c)\n",
    "        self.errors.append(loss)"
   ]
  }
 ],
 "metadata": {
  "anaconda-cloud": {},
  "kernelspec": {
   "display_name": "Python [conda env:python2]",
   "language": "python",
   "name": "conda-env-python2-py"
  },
  "language_info": {
   "codemirror_mode": {
    "name": "ipython",
    "version": 2
   },
   "file_extension": ".py",
   "mimetype": "text/x-python",
   "name": "python",
   "nbconvert_exporter": "python",
   "pygments_lexer": "ipython2",
   "version": "2.7.13"
  }
 },
 "nbformat": 4,
 "nbformat_minor": 1
}
