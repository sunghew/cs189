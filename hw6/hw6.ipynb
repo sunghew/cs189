{
 "cells": [
  {
   "cell_type": "code",
   "execution_count": 21,
   "metadata": {
    "collapsed": false
   },
   "outputs": [],
   "source": [
    "import numpy as np\n",
    "%matplotlib inline\n",
    "import matplotlib.pyplot as plt\n",
    "import scipy.io as sio\n",
    "from sklearn import preprocessing as pre\n",
    "import string\n",
    "from scipy.special import expit as sigmoid\n",
    "from __future__ import division"
   ]
  },
  {
   "cell_type": "code",
   "execution_count": 22,
   "metadata": {
    "collapsed": true
   },
   "outputs": [],
   "source": [
    "def print_letter(arr, label):\n",
    "    label = label-1\n",
    "    mnist_image = \"\"\n",
    "    for x in range(28 * 28 - 1):\n",
    "        if x % 28 == 0:\n",
    "            mnist_image += '\\n'\n",
    "        if (arr[x] == 0):\n",
    "            mnist_image += ' '\n",
    "        else:\n",
    "            mnist_image += '*'\n",
    "    print(mnist_image)\n",
    "    print list(string.ascii_lowercase)[label], label"
   ]
  },
  {
   "cell_type": "code",
   "execution_count": 23,
   "metadata": {
    "collapsed": false
   },
   "outputs": [],
   "source": [
    "data = sio.loadmat('hw6_data_dist/letters_data.mat')\n",
    "train_x = data['train_x']\n",
    "train_y = np.ndarray.flatten(data['train_y'])\n",
    "\n",
    "order = np.arange(train_x.shape[0])\n",
    "np.random.shuffle(order)\n",
    "shuffled_data = np.take(train_x, order, 0)\n",
    "shuffled_labels = np.take(train_y, order, 0)\n",
    "\n",
    "VALID_SPLIT = int(0.8 * train_x.shape[0])\n",
    "train_data, valid_data = shuffled_data[:VALID_SPLIT], shuffled_data[VALID_SPLIT:]\n",
    "train_labels, valid_labels = shuffled_labels[:VALID_SPLIT], shuffled_labels[VALID_SPLIT:]\n",
    "\n",
    "test_data = data['test_x']\n",
    "\n",
    "\"\"\"We center all the data by the train_data mean since we're training on train_data\"\"\"\n",
    "mean = np.mean(train_data, axis=0)\n",
    "train_data = (train_data - mean) / 255\n",
    "train_data = np.append(train_data, np.ones((len(train_data), 1), dtype='int'), axis=1)\n",
    "\n",
    "valid_data = (valid_data - mean) / 255\n",
    "valid_data = np.append(valid_data, np.ones((len(valid_data), 1), dtype='int'), axis=1)\n",
    "\n",
    "all_data = (shuffled_data - mean) / 255\n",
    "all_data = np.append(all_data, np.ones((len(all_data), 1), dtype='int'), axis=1)\n",
    "\n",
    "test_data = (test_data - mean) / 255\n",
    "test_data = np.append(test_data, np.ones((len(test_data), 1), dtype='int'), axis=1)"
   ]
  },
  {
   "cell_type": "code",
   "execution_count": 24,
   "metadata": {
    "collapsed": true
   },
   "outputs": [],
   "source": [
    "d, b, k = 784, 200, 26"
   ]
  },
  {
   "cell_type": "code",
   "execution_count": 25,
   "metadata": {
    "collapsed": true
   },
   "outputs": [],
   "source": [
    "def kaggle_write(nn, images):\n",
    "    predictions = nn.predict(images)\n",
    "    f = open('kaggle.csv', 'w')\n",
    "    f.write(\"Id,Category\\n\")\n",
    "    i = 1\n",
    "    for p in predictions:\n",
    "        f.write(\"{},{}\\n\".format(i, int(p)))\n",
    "        i += 1\n",
    "    f.close()"
   ]
  },
  {
   "cell_type": "code",
   "execution_count": 35,
   "metadata": {
    "collapsed": false
   },
   "outputs": [],
   "source": [
    "class NeuralNet:\n",
    "    \"\"\" Initializes NeuralNet\n",
    "    :param learning_rate: learning rate for gradient descent\n",
    "    :param decay: scale learning_rate by decay at the end of each epoch\n",
    "    :param epochs: max number of epochs\n",
    "    \"\"\"\n",
    "    def __init__(self, learning_rate=0.01, decay=0.9, epochs=1):            \n",
    "        self.learning_rate = learning_rate\n",
    "        self.decay = decay\n",
    "        self.epochs = epochs\n",
    "        \n",
    "        self.V = np.random.rand(b, d) - 0.5\n",
    "        self.W = np.random.rand(k, b) - 0.5\n",
    "        self.V = np.append(self.V, np.ones((b, 1), dtype='int'), axis=1)\n",
    "        self.W = np.append(self.W, np.ones((k, 1), dtype='int'), axis=1)\n",
    "        \n",
    "        self.iterations = []\n",
    "        self.losses = []\n",
    "        \n",
    "    def train(self, images, labels, granularity=1000):\n",
    "        counter, total_loss = 1, 0\n",
    "        while counter <= self.epochs * len(images):\n",
    "            i = np.random.randint(0, len(images))\n",
    "            x, y = images[i], self.hot_encode(labels[i])\n",
    "            z, h = self.forward_pass(x)\n",
    "            gradwL, gradvL = self.backward_pass(x, h, z, y)\n",
    "            self.V = self.V - self.learning_rate * gradvL\n",
    "            self.W = self.W - self.learning_rate * gradwL\n",
    "            \n",
    "            loss = self.cross_entropy_loss(z, y)\n",
    "            if np.isnan(loss) or np.isinf(loss):\n",
    "                print i, loss\n",
    "            total_loss += loss\n",
    "            if counter % granularity == 0:\n",
    "                self.iterations.append(counter)\n",
    "                self.losses.append(total_loss / counter)\n",
    "            counter += 1\n",
    "            if counter % len(images) == 0:\n",
    "                print counter\n",
    "                self.learning_rate *= self.decay\n",
    "    \n",
    "    def predict(self, images):\n",
    "        predictions = []\n",
    "        for x in images:\n",
    "            z, _ = self.forward_pass(x)\n",
    "            predictions.append(np.argmax(z) + 1)\n",
    "        return predictions\n",
    "    \n",
    "    def validate(self, images, labels):\n",
    "        if len(labels) != len(images):\n",
    "            print 'Mismatch of labels ({}) and images ({})'.format(labels.shape, images.shape)\n",
    "        i, correct, correctp, incorrectp = 0, 0, [], []\n",
    "        for pred, label in zip(self.predict(images), labels):\n",
    "            if pred == label:\n",
    "                correct += 1\n",
    "                correctp.append([i, pred])\n",
    "            else:\n",
    "                incorrectp.append([i, pred])\n",
    "            i += 1\n",
    "        return correct, correctp, incorrectp\n",
    "            \n",
    "    def hot_encode(self, y):\n",
    "        label = np.zeros((k, 1), dtype=int)\n",
    "        label[y-1] = 1\n",
    "        return label\n",
    "    \n",
    "    def cross_entropy_loss(self, z, y):\n",
    "        loss, lnz, inv_lnz = 0, np.log2(z), np.log2(1 - z)\n",
    "        for i in range(k):\n",
    "            loss += y[i] * lnz[i] + (1 - y[i]) * inv_lnz[i]\n",
    "        return -loss[0]\n",
    "    \n",
    "    def forward_pass(self, x):\n",
    "        Vx = self.V.dot(x)\n",
    "        h = np.append(np.tanh(Vx), [1], axis=0)\n",
    "        z = sigmoid(self.W.dot(h))\n",
    "        return z, h\n",
    "    \n",
    "    def backward_pass(self, x, h, z, y):\n",
    "        x = np.reshape(x, (x.shape[0], 1))\n",
    "        h = np.reshape(h, (h.shape[0], 1))\n",
    "        z = np.reshape(z, (z.shape[0], 1))\n",
    "        \n",
    "        gradhL = self.W.T.dot(z-y)\n",
    "        gradvh = 1 - np.square(h)\n",
    "        gradvL = np.outer(gradhL * gradvh, x)\n",
    "        gradvL = np.delete(gradvL, -1, axis=0)\n",
    "        gradwL = np.outer(z-y, h)\n",
    "        return gradwL, gradvL"
   ]
  },
  {
   "cell_type": "code",
   "execution_count": 39,
   "metadata": {
    "collapsed": false,
    "scrolled": false
   },
   "outputs": [
    {
     "name": "stdout",
     "output_type": "stream",
     "text": [
      "99840\n",
      "199680\n",
      "299520\n",
      "399360\n",
      "499200\n",
      "Training Accuracy: 91.0827323718%\n",
      "Validation Accuracy: 87.2395833333%\n"
     ]
    }
   ],
   "source": [
    "nn2 = NeuralNet(epochs=5)\n",
    "nn2.train(train_data, train_labels)\n",
    "train_correct, traincp, trainip = nn2.validate(train_data, train_labels)\n",
    "valid_correct, validcp, validip = nn2.validate(valid_data, valid_labels)\n",
    "\n",
    "print \"Training Accuracy: {}%\".format(100 * train_correct / len(train_labels))\n",
    "print \"Validation Accuracy: {}%\".format(100 * valid_correct / len(valid_labels))"
   ]
  },
  {
   "cell_type": "code",
   "execution_count": 40,
   "metadata": {
    "collapsed": false
   },
   "outputs": [
    {
     "data": {
      "image/png": "[encoded data removed]",
      "text/plain": [
       "<matplotlib.figure.Figure at 0x112d16690>"
      ]
     },
     "metadata": {},
     "output_type": "display_data"
    }
   ],
   "source": [
    "plt.xlim([0, nn2.epochs * len(train_data)])\n",
    "plt.ylim([0, 20])\n",
    "plt.plot(nn2.iterations, nn2.losses)\n",
    "plt.title('Average Loss Value by Iteration')\n",
    "ax = plt.gca()\n",
    "\n",
    "plt.xlabel('Iterations')\n",
    "plt.ylabel('Loss')\n",
    "plt.savefig('loss.png', bbox_inches='tight')\n",
    "plt.show()"
   ]
  },
  {
   "cell_type": "code",
   "execution_count": 34,
   "metadata": {
    "collapsed": false
   },
   "outputs": [
    {
     "data": {
      "image/png": "[encoded data removed]",
      "text/plain": [
       "<matplotlib.figure.Figure at 0x1100b5b10>"
      ]
     },
     "metadata": {},
     "output_type": "display_data"
    }
   ],
   "source": [
    "import string\n",
    "alphabet = string.ascii_lowercase\n",
    "counter = 1\n",
    "while counter <= 5:\n",
    "    i, pred = validcp[counter]\n",
    "    img = np.reshape(np.delete(valid_data[i], -1), (28, 28))\n",
    "    plt.imshow(img)\n",
    "    plt.savefig('valid_correct{}_{}.png'.format(counter, alphabet[valid_labels[i]-1]), bbox_inches='tight')\n",
    "    counter += 1\n",
    "\n",
    "counter = 1\n",
    "while counter <= 5:\n",
    "    i, pred = validip[counter]\n",
    "    img = np.reshape(np.delete(valid_data[i], -1), (28, 28))\n",
    "    plt.imshow(img)\n",
    "    plt.savefig('valid_incorrect{}_{}.png'.format(counter, alphabet[valid_labels[i]-1]), bbox_inches='tight')\n",
    "    counter += 1"
   ]
  },
  {
   "cell_type": "code",
   "execution_count": 50,
   "metadata": {
    "collapsed": false
   },
   "outputs": [
    {
     "name": "stdout",
     "output_type": "stream",
     "text": [
      "0\n",
      "1\n",
      "2\n",
      "3\n",
      "4\n",
      "0.915841346154\n"
     ]
    }
   ],
   "source": [
    "nna = NeuralNet(epochs=5)\n",
    "nna.train(all_data, shuffled_labels)\n",
    "tincorrect, tpredictions = nna.validate(all_data, shuffled_labels)"
   ]
  },
  {
   "cell_type": "code",
   "execution_count": 58,
   "metadata": {
    "collapsed": false
   },
   "outputs": [],
   "source": [
    "kaggle_write(nna, test_data)"
   ]
  },
  {
   "cell_type": "code",
   "execution_count": 41,
   "metadata": {
    "collapsed": false,
    "scrolled": false
   },
   "outputs": [
    {
     "name": "stdout",
     "output_type": "stream",
     "text": [
      "0\n"
     ]
    }
   ],
   "source": [
    "nn = NeuralNet(0.01, 0.9, 1)\n",
    "nn.train(train_data, train_labels)\n",
    "\n",
    "# small_data, small_labels = train_data[:100], train_labels[:100]\n",
    "# nn.train(small_data, small_labels)\n",
    "# correct, predictions = nn.validate(small_data, small_labels)\n",
    "# for pred, label in zip(predictions, small_labels):\n",
    "#     print pred, label, pred == label"
   ]
  }
 ],
 "metadata": {
  "anaconda-cloud": {},
  "kernelspec": {
   "display_name": "Python [conda env:python2]",
   "language": "python",
   "name": "conda-env-python2-py"
  },
  "language_info": {
   "codemirror_mode": {
    "name": "ipython",
    "version": 2
   },
   "file_extension": ".py",
   "mimetype": "text/x-python",
   "name": "python",
   "nbconvert_exporter": "python",
   "pygments_lexer": "ipython2",
   "version": "2.7.13"
  }
 },
 "nbformat": 4,
 "nbformat_minor": 1
}
