{
 "cells": [
  {
   "cell_type": "code",
   "execution_count": 280,
   "metadata": {
    "collapsed": false
   },
   "outputs": [],
   "source": [
    "import numpy as np\n",
    "%matplotlib inline\n",
    "import matplotlib.pyplot as plt\n",
    "import scipy.io as sio\n",
    "from sklearn import preprocessing as pre\n",
    "import string\n",
    "from scipy.special import expit as sigmoid\n",
    "from __future__ import division"
   ]
  },
  {
   "cell_type": "code",
   "execution_count": 73,
   "metadata": {
    "collapsed": true
   },
   "outputs": [],
   "source": [
    "def print_letter(arr, label):\n",
    "    label = label-1\n",
    "    mnist_image = \"\"\n",
    "    for x in range(28 * 28 - 1):\n",
    "        if x % 28 == 0:\n",
    "            mnist_image += '\\n'\n",
    "        if (arr[x] == 0):\n",
    "            mnist_image += ' '\n",
    "        else:\n",
    "            mnist_image += '*'\n",
    "    print(mnist_image)\n",
    "    print list(string.ascii_lowercase)[label], label"
   ]
  },
  {
   "cell_type": "code",
   "execution_count": 578,
   "metadata": {
    "collapsed": false
   },
   "outputs": [],
   "source": [
    "data = sio.loadmat('hw6_data_dist/letters_data.mat')\n",
    "train_x = data['train_x']\n",
    "train_y = np.ndarray.flatten(data['train_y'])\n",
    "\n",
    "order = np.arange(train_x.shape[0])\n",
    "np.random.shuffle(order)\n",
    "shuffled_data = np.take(train_x, order, 0)\n",
    "shuffled_labels = np.take(train_y, order, 0)\n",
    "\n",
    "VALID_SPLIT = int(0.8 * train_x.shape[0])\n",
    "train_data, valid_data = shuffled_data[:VALID_SPLIT], shuffled_data[VALID_SPLIT:]\n",
    "train_labels, valid_labels = shuffled_labels[:VALID_SPLIT], shuffled_labels[VALID_SPLIT:]\n",
    "\n",
    "test_data = data['test_x']\n",
    "\n",
    "train_data = pre.normalize(train_data, axis=0)\n",
    "pre.scale(train_data, axis=0, copy=False)\n",
    "train_data = np.append(train_data, np.ones((len(train_data), 1), dtype='int'), axis=1)\n",
    "\n",
    "valid_data = pre.normalize(valid_data, axis=0)\n",
    "pre.scale(train_data, axis=0, copy=False)\n",
    "valid_data = np.append(valid_data, np.ones((len(valid_data), 1), dtype='int'), axis=1)\n",
    "\n",
    "test_data = pre.normalize(test_data, axis=0)\n",
    "pre.scale(test_data, axis=0, copy=False)\n",
    "normalX = np.append(test_data, np.ones((len(test_data), 1), dtype='int'), axis=1)"
   ]
  },
  {
   "cell_type": "code",
   "execution_count": 129,
   "metadata": {
    "collapsed": true
   },
   "outputs": [],
   "source": [
    "num_samples = 124800\n",
    "d, b, k = 784, 200, 26"
   ]
  },
  {
   "cell_type": "code",
   "execution_count": 572,
   "metadata": {
    "collapsed": false
   },
   "outputs": [],
   "source": [
    "class NeuralNet:\n",
    "    \"\"\" Initializes NeuralNet\n",
    "    :param layers: list layer sizes\n",
    "    :param learning_rate: learning rate for gradient descent\n",
    "    :param decay: scale learning_rate by decay at the end of each epoch\n",
    "    :param epochs: max number of epochs\n",
    "    \"\"\"\n",
    "    def __init__(self, layers=[200, 784, 26], learning_rate=0.01, decay=0.9, epochs=10):\n",
    "        if len(layers) < 2:\n",
    "            raise ValueError(\"Must have at least 2 layers\")\n",
    "            \n",
    "        self.learning_rate = learning_rate\n",
    "        self.decay = decay\n",
    "        self.epochs = epochs\n",
    "        \n",
    "        self.weights = []\n",
    "        w = np.random.rand(num_inputs, hidden_layers[1])\n",
    "        for i in range(len(hidden_layers)-1):\n",
    "            w = np.random.rand(layers[i], layers[i+1]) - 0.5\n",
    "            w = np.append(w, np.ones((len(w), 1), dtype='int'), axis=1)\n",
    "        self.V = np.random.rand(b, d) - 0.5\n",
    "        self.W = np.random.rand(k, b) - 0.5\n",
    "        self.V = np.append(self.V, np.ones((b, 1), dtype='int'), axis=1)\n",
    "        self.W = np.append(self.W, np.ones((k, 1), dtype='int'), axis=1)\n",
    "        \n",
    "        self.originalV = self.V\n",
    "        self.originalW = self.W\n",
    "        \n",
    "        self.iterations = []\n",
    "        self.errors = []\n",
    "        \n",
    "    def train(self, images, labels):\n",
    "        for c in range(self.max_iterations):\n",
    "            print c\n",
    "            for x, y in zip(images, labels):\n",
    "                z, h = self.forward_pass(x)\n",
    "                y = self.hot_encode(y)\n",
    "                gradwL, gradvL = self.backward_pass(x, h, z, y)\n",
    "                self.V = self.V - self.learning_rate * gradvL\n",
    "                self.W = self.W - self.learning_rate * gradwL\n",
    "            self.learning_rate *= 0.9\n",
    "                    \n",
    "            order = np.arange(images.shape[0])\n",
    "            np.random.shuffle(order)\n",
    "            images = np.take(images, order, 0)\n",
    "            labels = np.take(labels, order, 0)\n",
    "    \n",
    "    def predict(self, images):\n",
    "        predictions = []\n",
    "        for x in images:\n",
    "            z, _ = self.forward_pass(x)\n",
    "            predictions.append(np.argmax(z) + 1)\n",
    "        return predictions\n",
    "    \n",
    "    def validate(self, images, labels):\n",
    "        predictions = self.predict(images)\n",
    "        incorrect = 0\n",
    "        if len(labels) != len(images):\n",
    "            print 'Mismatch of labels ({}) and images ({})'.format(labels.shape, images.shape)\n",
    "            \n",
    "        for i in range(len(labels)):\n",
    "            if predictions[i] != labels[i]:\n",
    "                incorrect += 1\n",
    "                \n",
    "        print incorrect / len(labels)\n",
    "        \n",
    "        return incorrect, predictions\n",
    "            \n",
    "    def hot_encode(self, y):\n",
    "        label = np.zeros((k, 1), dtype=int)\n",
    "        label[y-1] = 1\n",
    "        return label\n",
    "    \n",
    "    def cross_entropy_loss(self, z, y):\n",
    "        loss, lnz, inv_lnz = 0, np.log2(z), np.log2(1 - z)\n",
    "        for i in range(k):\n",
    "            loss += y[i] * lnz[i] + (1 - y[i]) * inv_lnz[i]\n",
    "        return -loss[0]\n",
    "    \n",
    "    def forward_pass(self, x):\n",
    "        Vx = self.V.dot(x)\n",
    "        h = np.append(np.tanh(Vx), [1], axis=0)\n",
    "        z = sigmoid(self.W.dot(h))\n",
    "        return z, h\n",
    "    \n",
    "    def backward_pass(self, x, h, z, y):\n",
    "        x = np.reshape(x, (x.shape[0], 1))\n",
    "        h = np.reshape(h, (h.shape[0], 1))\n",
    "        z = np.reshape(z, (z.shape[0], 1))\n",
    "        \n",
    "        gradhL = self.W.T.dot(z-y)\n",
    "        gradvh = 1 - np.square(h)\n",
    "        gradvL = np.outer(gradhL * gradvh, x)\n",
    "        gradvL = np.delete(gradvL, -1, axis=0)\n",
    "        gradwL = np.outer(z-y, h)\n",
    "        return gradwL, gradvL"
   ]
  },
  {
   "cell_type": "code",
   "execution_count": 573,
   "metadata": {
    "collapsed": false,
    "scrolled": true
   },
   "outputs": [
    {
     "name": "stdout",
     "output_type": "stream",
     "text": [
      "0\n"
     ]
    }
   ],
   "source": [
    "neuralnet = NeuralNet(0.01, 1)\n",
    "neuralnet.train(train_data, train_labels)"
   ]
  },
  {
   "cell_type": "code",
   "execution_count": 575,
   "metadata": {
    "collapsed": false,
    "scrolled": true
   },
   "outputs": [
    {
     "name": "stdout",
     "output_type": "stream",
     "text": [
      "0.225090144231\n"
     ]
    }
   ],
   "source": [
    "incorrect = neuralnet.validate(train_data, train_labels)"
   ]
  },
  {
   "cell_type": "code",
   "execution_count": 576,
   "metadata": {
    "collapsed": false
   },
   "outputs": [
    {
     "name": "stdout",
     "output_type": "stream",
     "text": [
      "0.243629807692\n"
     ]
    }
   ],
   "source": [
    "incorrect, predictions = neuralnet.validate(valid_data, valid_labels)\n",
    "# for p, label in zip(predictions, valid_labels):\n",
    "#     print p, label\n",
    "# print incorrect / len(valid_labels), incorrect, len(valid_labels)"
   ]
  },
  {
   "cell_type": "code",
   "execution_count": 564,
   "metadata": {
    "collapsed": false
   },
   "outputs": [
    {
     "data": {
      "text/plain": [
       "(1, 15)"
      ]
     },
     "execution_count": 564,
     "metadata": {},
     "output_type": "execute_result"
    }
   ],
   "source": [
    "np.argmax(neuralnet.predict([valid_data[3122]])) + 1, valid_labels[1]"
   ]
  },
  {
   "cell_type": "code",
   "execution_count": null,
   "metadata": {
    "collapsed": true
   },
   "outputs": [],
   "source": [
    "if c % 10 == 0:\n",
    "    loss = self.cross_entropy_loss(z, y)\n",
    "    if not np.isnan(loss) and not np.isinf(loss):\n",
    "        self.iterations.append(c)\n",
    "        self.errors.append(loss)"
   ]
  }
 ],
 "metadata": {
  "anaconda-cloud": {},
  "kernelspec": {
   "display_name": "Python [conda env:python2]",
   "language": "python",
   "name": "conda-env-python2-py"
  },
  "language_info": {
   "codemirror_mode": {
    "name": "ipython",
    "version": 2
   },
   "file_extension": ".py",
   "mimetype": "text/x-python",
   "name": "python",
   "nbconvert_exporter": "python",
   "pygments_lexer": "ipython2",
   "version": "2.7.13"
  }
 },
 "nbformat": 4,
 "nbformat_minor": 1
}
