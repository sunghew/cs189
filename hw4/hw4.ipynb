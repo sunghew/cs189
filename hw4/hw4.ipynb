{
 "cells": [
  {
   "cell_type": "code",
   "execution_count": 4,
   "metadata": {
    "collapsed": false
   },
   "outputs": [],
   "source": [
    "import numpy as np\n",
    "import matplotlib.cm as cm\n",
    "import matplotlib.mlab as mlab\n",
    "import matplotlib.pyplot as plt\n",
    "import scipy as sp\n",
    "import scipy.io as sio\n",
    "import scipy.stats as stats\n",
    "from sklearn import preprocessing as preprocessing\n",
    "from random import randrange"
   ]
  },
  {
   "cell_type": "markdown",
   "metadata": {},
   "source": [
    "# Question 1: Logistic Regression with Newton's Method"
   ]
  },
  {
   "cell_type": "code",
   "execution_count": 5,
   "metadata": {
    "collapsed": false
   },
   "outputs": [],
   "source": [
    "X = np.array([[0, 3, 1], \n",
    "              [1, 3, 1], \n",
    "              [0, 1, 1], \n",
    "              [1, 1, 1]])\n",
    "y = np.array([[1, 1, 0, 0]]).T\n",
    "w0 = np.array([[-2, 1, 0]]).T\n",
    "lmda = 0.07\n",
    "n, d = 4, 2"
   ]
  },
  {
   "cell_type": "markdown",
   "metadata": {},
   "source": [
    "## Question 1.4 (a)"
   ]
  },
  {
   "cell_type": "code",
   "execution_count": 7,
   "metadata": {
    "collapsed": false
   },
   "outputs": [
    {
     "name": "stdout",
     "output_type": "stream",
     "text": [
      "[[ 0.95257413]\n",
      " [ 0.73105858]\n",
      " [ 0.73105858]\n",
      " [ 0.26894142]]\n"
     ]
    }
   ],
   "source": [
    "s0 = sp.special.expit(np.dot(X, w0))\n",
    "print(s0)"
   ]
  },
  {
   "cell_type": "code",
   "execution_count": 16,
   "metadata": {
    "collapsed": false
   },
   "outputs": [
    {
     "name": "stdout",
     "output_type": "stream",
     "text": [
      "[[ 1.  0.  0.]\n",
      " [ 0.  1.  0.]\n",
      " [ 0.  0.  1.]]\n"
     ]
    }
   ],
   "source": [
    "I = np.eye(d+1, d+1)\n",
    "# I[d, d] = 1\n",
    "print(I)"
   ]
  },
  {
   "cell_type": "markdown",
   "metadata": {},
   "source": [
    "## Question 1.4 (b)"
   ]
  },
  {
   "cell_type": "code",
   "execution_count": 17,
   "metadata": {
    "collapsed": false
   },
   "outputs": [],
   "source": [
    "def w_iterate(w, X, s, y, lmda, d):\n",
    "    grad = 2 * lmda * w + np.matmul(X.T, s - y)\n",
    "    omega = np.diag(np.ndarray.flatten(s * (1 - s)))\n",
    "    \n",
    "    # don't penalize alpha\n",
    "    I = np.eye(d+1, d+1)\n",
    "#     I[d, d] = 1\n",
    "    \n",
    "    H = 2 * lmda * I + np.matmul(np.matmul(X.T, omega), X)\n",
    "    e = np.linalg.solve(H, -grad)\n",
    "    return w + e"
   ]
  },
  {
   "cell_type": "code",
   "execution_count": 18,
   "metadata": {
    "collapsed": false
   },
   "outputs": [
    {
     "name": "stdout",
     "output_type": "stream",
     "text": [
      "[[-0.38676399]\n",
      " [ 1.40431761]\n",
      " [-2.28417115]]\n"
     ]
    }
   ],
   "source": [
    "w1 = w_iterate(w0, X, s0, y, lmda, d)\n",
    "print(w1)"
   ]
  },
  {
   "cell_type": "markdown",
   "metadata": {},
   "source": [
    "## Question 1.4 (c)"
   ]
  },
  {
   "cell_type": "code",
   "execution_count": 19,
   "metadata": {
    "collapsed": false
   },
   "outputs": [
    {
     "name": "stdout",
     "output_type": "stream",
     "text": [
      "[[ 0.87311451]\n",
      " [ 0.82375785]\n",
      " [ 0.29320813]\n",
      " [ 0.21983683]]\n"
     ]
    }
   ],
   "source": [
    "s1 = sp.special.expit(np.dot(X, w1))\n",
    "print(s1)"
   ]
  },
  {
   "cell_type": "markdown",
   "metadata": {},
   "source": [
    "## Question 1.4 (d)"
   ]
  },
  {
   "cell_type": "code",
   "execution_count": 20,
   "metadata": {
    "collapsed": false
   },
   "outputs": [
    {
     "name": "stdout",
     "output_type": "stream",
     "text": [
      "[[-0.51222668]\n",
      " [ 1.45272677]\n",
      " [-2.16271799]]\n"
     ]
    }
   ],
   "source": [
    "w2 = w_iterate(w1, X, s1, y, lmda, d)\n",
    "print(w2)"
   ]
  },
  {
   "cell_type": "markdown",
   "metadata": {},
   "source": [
    "# Question 4: Franzia Classification + Logistic Regression = Party!"
   ]
  },
  {
   "cell_type": "code",
   "execution_count": 4,
   "metadata": {
    "collapsed": true
   },
   "outputs": [],
   "source": [
    "wine_data = sio.loadmat(\"data.mat\")"
   ]
  },
  {
   "cell_type": "code",
   "execution_count": 5,
   "metadata": {
    "collapsed": false
   },
   "outputs": [],
   "source": [
    "wine_X = wine_data['X']\n",
    "wine_y = wine_data['y']\n",
    "wine_X_test = wine_data['X_test']\n",
    "\n",
    "# handle bias term for X\n",
    "wine_X = np.insert(wine_X, wine_X.shape[1], 1, axis=1)\n",
    "wine_X_test = np.insert(wine_X_test, wine_X_test.shape[1], 1, axis=1)\n",
    "\n",
    "# normalize\n",
    "wine_X = preprocessing.normalize(wine_X)\n",
    "wine_y = preprocessing.normalize(wine_y)\n",
    "wine_X_test = preprocessing.normalize(wine_X_test)\n",
    "\n",
    "order = np.arange(wine_X.shape[0])\n",
    "np.random.shuffle(order)\n",
    "\n",
    "shuffled_wine_X = np.take(wine_X, order, 0)\n",
    "shuffled_wine_y = np.take(wine_y, order, 0)\n",
    "\n",
    "num_validation = 600\n",
    "wine_tX = shuffled_wine_X[num_validation:]\n",
    "wine_ty = shuffled_wine_y[num_validation:]\n",
    "\n",
    "wine_vX = shuffled_wine_X[:num_validation]\n",
    "wine_vy = shuffled_wine_y[:num_validation]"
   ]
  },
  {
   "cell_type": "markdown",
   "metadata": {},
   "source": [
    "## Question 4.1: Batch Gradient Descent"
   ]
  },
  {
   "cell_type": "code",
   "execution_count": 245,
   "metadata": {
    "collapsed": false
   },
   "outputs": [],
   "source": [
    "SMALL = 1e-6\n",
    "\n",
    "def logistic(X, w):\n",
    "    s = sp.special.expit(np.dot(X, w))\n",
    "    s[s == 0] = SMALL\n",
    "    s[s == 1] = 1 - SMALL\n",
    "    return s\n",
    "\n",
    "def logistic_grad(w, X, y, reg_param):\n",
    "    s = sp.special.expit(np.dot(X, w))\n",
    "    s = np.reshape(s, (len(s), 1))\n",
    "    return (2 * reg_param * w + np.dot(X.T, y - s)) / len(X)\n",
    "\n",
    "def logistic_cost(w, X, y, lmda):\n",
    "    s = logistic(X, w)\n",
    "    norm = lmda * np.linalg.norm(w) ** 2\n",
    "    log_cost = np.dot(y.T, np.log(s)) + np.dot((1-y).T, np.log(1-s))\n",
    "    return ((norm - log_cost) / len(X))[0]\n",
    "\n",
    "def batch_gradient_descent(X, y, reg_param, learning_rate, max_iter=float('inf')):\n",
    "    i, costs = 0, []\n",
    "    w = np.zeros((X.shape[1], 1))\n",
    "    while (i < max_iter):\n",
    "        if i % (max_iter // 1e2) == 0:\n",
    "            costs.append(logistic_cost(w, X, y, learning_rate)[0])\n",
    "        w = w + learning_rate * logistic_grad(w, X, y, reg_param)\n",
    "        i += 1\n",
    "    return costs, w    "
   ]
  },
  {
   "cell_type": "code",
   "execution_count": 246,
   "metadata": {
    "collapsed": false
   },
   "outputs": [
    {
     "data": {
      "image/png": "[encoded data removed]",
      "text/plain": [
       "<matplotlib.figure.Figure at 0x10fecd390>"
      ]
     },
     "metadata": {},
     "output_type": "display_data"
    }
   ],
   "source": [
    "reg_param = 0.07\n",
    "learning_rate = 1e-3\n",
    "iterations = 1e5\n",
    "\n",
    "batch_costs, batch_w = batch_gradient_descent(wine_tX, wine_ty, reg_param, learning_rate, iterations)\n",
    "\n",
    "plt.plot(batch_costs)\n",
    "plt.title('Batch Gradient Descent Cost by Iterations for lmda={} epsilon={}'.format(reg_param, learning_rate))\n",
    "ax = plt.gca()\n",
    "\n",
    "plt.xlabel('Iterations')\n",
    "plt.ylabel('Cost')\n",
    "plt.savefig('q41.png', bbox_inches='tight')\n",
    "plt.show()"
   ]
  },
  {
   "cell_type": "markdown",
   "metadata": {},
   "source": [
    "\n",
    "## Question 4.2: Stochastic Gradient Descent"
   ]
  },
  {
   "cell_type": "code",
   "execution_count": 255,
   "metadata": {
    "collapsed": false
   },
   "outputs": [],
   "source": [
    "def stochastic_logistic_grad(w, X, y, reg_param):\n",
    "    ri = randrange(0, len(X))\n",
    "    rx = X[ri]\n",
    "    s = logistic(rx, w)[0]\n",
    "    logis = rx.T * (y[ri][0] - s)\n",
    "    logis = logis.reshape((len(w), 1))\n",
    "    return 2 * reg_param * w + logis\n",
    "\n",
    "def stochastic_gradient_descent(X, y, reg_param, learning_rate, max_iter=float('inf')):\n",
    "    i, costs = 0, []\n",
    "    w = np.zeros((X.shape[1], 1))\n",
    "    while (i < max_iter):\n",
    "        costs.append(logistic_cost(w, X, y, learning_rate)[0])\n",
    "        w = w + learning_rate * stochastic_logistic_grad(w, X, y, reg_param)\n",
    "        i += 1\n",
    "    return costs, w"
   ]
  },
  {
   "cell_type": "code",
   "execution_count": 256,
   "metadata": {
    "collapsed": false
   },
   "outputs": [
    {
     "data": {
      "image/png": "[encoded data removed]",
      "text/plain": [
       "<matplotlib.figure.Figure at 0x1175eb400>"
      ]
     },
     "metadata": {},
     "output_type": "display_data"
    }
   ],
   "source": [
    "reg_param = 0.07\n",
    "learning_rate = 1e-6\n",
    "iterations = 1e5\n",
    "\n",
    "stochastic_costs, stochastic_w = stochastic_gradient_descent(wine_tX, wine_ty, reg_param, learning_rate, iterations)\n",
    "\n",
    "plt.plot(stochastic_costs)\n",
    "plt.title('Stochastic Gradient Descent Cost by Iterations for lmda={} epsilon={}'.format(reg_param, learning_rate))\n",
    "ax = plt.gca()\n",
    "\n",
    "plt.xlabel('Iterations')\n",
    "plt.ylabel('Cost')\n",
    "plt.savefig('q42.png', bbox_inches='tight')\n",
    "plt.show()"
   ]
  },
  {
   "cell_type": "markdown",
   "metadata": {},
   "source": [
    "Stochastic gradient descent converges in less iterations that gradient descent"
   ]
  },
  {
   "cell_type": "markdown",
   "metadata": {},
   "source": [
    "# Question 4.3: Stochastic Gradient Descent Non-constant Learning Rate"
   ]
  },
  {
   "cell_type": "code",
   "execution_count": 254,
   "metadata": {
    "collapsed": true
   },
   "outputs": [],
   "source": [
    "def decaying_stochastic_gradient_descent(X, y, reg_param, learning_rate, t, max_iter=float('inf')):\n",
    "    i, costs = 0, []\n",
    "    w = np.zeros((X.shape[1], 1))\n",
    "    while (i < max_iter):\n",
    "        costs.append(logistic_cost(w, X, y, learning_rate)[0])\n",
    "        w = w + learning_rate * stochastic_logistic_grad(w, X, y, reg_param)\n",
    "        i += 1\n",
    "        learning_rate /= t\n",
    "    return costs, w"
   ]
  },
  {
   "cell_type": "code",
   "execution_count": 258,
   "metadata": {
    "collapsed": false
   },
   "outputs": [
    {
     "data": {
      "image/png": "[encoded data removed]",
      "text/plain": [
       "<matplotlib.figure.Figure at 0x11066ee80>"
      ]
     },
     "metadata": {},
     "output_type": "display_data"
    }
   ],
   "source": [
    "reg_param = 0.07\n",
    "learning_rate = 1e-3\n",
    "t = 1 + 1e-3\n",
    "iterations = 1e5\n",
    "\n",
    "stochastic_costs, dsw = decaying_stochastic_gradient_descent(wine_tX, wine_ty, reg_param, learning_rate, t, iterations)\n",
    "\n",
    "plt.plot(stochastic_costs)\n",
    "plt.title('Stochastic Gradient Descent Cost by Iterations for lmda={} epsilon={}'.format(reg_param, learning_rate))\n",
    "ax = plt.gca()\n",
    "\n",
    "plt.xlabel('Iterations')\n",
    "plt.ylabel('Cost')\n",
    "plt.savefig('q43.png', bbox_inches='tight')\n",
    "plt.show()"
   ]
  },
  {
   "cell_type": "markdown",
   "metadata": {},
   "source": [
    "After tuning our hyperparameters, it seems that having a decaying learning rate has lower costs. This strategy seems better, although after a certain point it essentially stops learning."
   ]
  },
  {
   "cell_type": "markdown",
   "metadata": {},
   "source": [
    "## Question 4.4 Kaggle"
   ]
  },
  {
   "cell_type": "code",
   "execution_count": 19,
   "metadata": {
    "collapsed": false
   },
   "outputs": [],
   "source": [
    "SMALL = 1e-6\n",
    "\n",
    "def logistic_s(X, w):\n",
    "    s = sp.special.expit(np.dot(X, w))\n",
    "    s[s == 0] = SMALL\n",
    "    s[s == 1] = 1 - SMALL\n",
    "    return s\n",
    "\n",
    "def logistic_grad(w, X, y, reg_param):\n",
    "    s = logistic_s(X, w)\n",
    "    s = np.reshape(s, (len(s), 1))\n",
    "    return (2 * reg_param * w + np.dot(X.T, y - s) / len(X))\n",
    "\n",
    "def batch_gradient_descent(X, y, reg_param, learning_rate, max_iter=float('inf')):\n",
    "    i = 0\n",
    "    w = np.zeros((X.shape[1], 1))\n",
    "    while (i < max_iter):\n",
    "        grad = logistic_grad(w, X, y, reg_param)\n",
    "        w = w + learning_rate * grad\n",
    "        i += 1\n",
    "        if (i % (max_iter // 20) == 0):\n",
    "            print(i)\n",
    "    return w   \n",
    "\n",
    "def lasso_logistic_grad(w, X, y, reg_param):\n",
    "    s = logistic_s(X, w)\n",
    "    s = np.reshape(s, (len(s), 1))\n",
    "    return (reg_param + np.dot(X.T, y - s)) / len(X)\n",
    "\n",
    "def lasso_batch_gradient_descent(X, y, reg_param, learning_rate, max_iter=float('inf')):\n",
    "    i = 0\n",
    "    w = np.zeros((X.shape[1], 1))\n",
    "    while (i < max_iter):\n",
    "        grad = lasso_logistic_grad(w, X, y, reg_param)\n",
    "        w = w + learning_rate * grad\n",
    "        i += 1\n",
    "        if (i % (max_iter // 20) == 0):\n",
    "            print(i)\n",
    "    return w   \n",
    "\n",
    "def logistic_hessian(w, X, y, reg_param):\n",
    "    s = logistic_s(X, w)\n",
    "    s = np.reshape(s, (len(s), 1))\n",
    "    omega = np.diag(np.ndarray.flatten(s * (1 - s)))\n",
    "    \n",
    "    d = X.shape[1]\n",
    "    I = np.eye(d, d)\n",
    "    I[d-1, d-1] = 0\n",
    "    \n",
    "    return 2 * reg_param * I + np.matmul(np.matmul(X.T, omega), X)\n",
    "    \n",
    "\n",
    "def newton_update(w, X, y, lmda):\n",
    "    grad = logistic_grad(w, X, y, lmda) \n",
    "    H = logistic_hessian(w, X, y, lmda)\n",
    "    e = np.linalg.solve(H, -grad)\n",
    "    return e\n",
    "\n",
    "def newton_method(X, y, reg_param, learning_rate, max_iter=float('inf')):\n",
    "    i = 0\n",
    "    w = np.zeros((X.shape[1], 1))\n",
    "    while (i < max_iter):\n",
    "        w = w + newton_update(w, X, y, reg_param)\n",
    "        i += 1\n",
    "        if (i % (max_iter // 20) == 0):\n",
    "            print(i)\n",
    "    return w \n",
    "\n",
    "def predict(w, X):\n",
    "    guesses = []\n",
    "    for wine in X:\n",
    "        guesses.append(logistic_s(wine, w)[0])\n",
    "    return np.rint(guesses).astype(int)"
   ]
  },
  {
   "cell_type": "code",
   "execution_count": 22,
   "metadata": {
    "collapsed": false
   },
   "outputs": [
    {
     "name": "stdout",
     "output_type": "stream",
     "text": [
      "5000000\n",
      "10000000\n",
      "15000000\n",
      "20000000\n",
      "25000000\n",
      "30000000\n",
      "35000000\n",
      "40000000\n",
      "45000000\n",
      "50000000\n",
      "55000000\n",
      "60000000\n",
      "65000000\n",
      "70000000\n",
      "75000000\n",
      "80000000\n",
      "85000000\n",
      "90000000\n",
      "95000000\n",
      "100000000\n"
     ]
    }
   ],
   "source": [
    "reg_param = 0.07\n",
    "learning_rate = 2e-3\n",
    "iterations = 1e8\n",
    "\n",
    "# train batch gradient descent on whole wine data\n",
    "kaggle_w = lasso_batch_gradient_descent(wine_X, wine_y, reg_param, learning_rate, iterations)"
   ]
  },
  {
   "cell_type": "code",
   "execution_count": 23,
   "metadata": {
    "collapsed": false
   },
   "outputs": [
    {
     "name": "stdout",
     "output_type": "stream",
     "text": [
      "[[ 67.65745382]\n",
      " [ 36.88947037]\n",
      " [ -6.60730614]\n",
      " [-17.10979866]\n",
      " [  8.28380708]\n",
      " [  4.07104519]\n",
      " [ -5.99795525]\n",
      " [  6.72517062]\n",
      " [ 38.54357397]\n",
      " [ 27.50144454]\n",
      " [-30.65613182]\n",
      " [  1.96160514]\n",
      " [  6.25210974]]\n"
     ]
    }
   ],
   "source": [
    "print(kaggle_w)"
   ]
  },
  {
   "cell_type": "code",
   "execution_count": 24,
   "metadata": {
    "collapsed": false
   },
   "outputs": [
    {
     "name": "stdout",
     "output_type": "stream",
     "text": [
      "0.07 0.002 100000000.0\n",
      "4730 1270 6000\n",
      "315 6000 0.0525\n"
     ]
    }
   ],
   "source": [
    "print(reg_param, learning_rate, iterations)\n",
    "guesses = []\n",
    "for wine in wine_X:\n",
    "    a = logistic_s(wine, kaggle_w)\n",
    "    guesses.append(a)\n",
    "guesses = np.rint(guesses)\n",
    "\n",
    "zeros, ones = 0, 0\n",
    "for g in guesses:\n",
    "    if g == 0:\n",
    "        zeros += 1\n",
    "    if g == 1:\n",
    "        ones += 1\n",
    "print(zeros, ones, zeros + ones)\n",
    "\n",
    "wrong = 0\n",
    "for g, label in zip(guesses, wine_y):\n",
    "    if g != label:\n",
    "        wrong += 1\n",
    "accuracy = wrong / len(wine_y)\n",
    "print(wrong, len(wine_y), accuracy)"
   ]
  },
  {
   "cell_type": "code",
   "execution_count": 29,
   "metadata": {
    "collapsed": false
   },
   "outputs": [],
   "source": [
    "guesses = predict(kaggle_w, wine_X_test)"
   ]
  },
  {
   "cell_type": "code",
   "execution_count": 31,
   "metadata": {
    "collapsed": true
   },
   "outputs": [],
   "source": [
    "f = open('wine.csv', 'w')\n",
    "f.write(\"Id,Category\\n\")\n",
    "i = 0\n",
    "for g in guesses:\n",
    "    f.write(\"{},{}\\n\".format(i, g))\n",
    "    i += 1\n",
    "f.close()"
   ]
  },
  {
   "cell_type": "markdown",
   "metadata": {},
   "source": [
    "Name: cschon\n",
    "\n",
    "Score: 0.93952"
   ]
  },
  {
   "cell_type": "code",
   "execution_count": null,
   "metadata": {
    "collapsed": true
   },
   "outputs": [],
   "source": []
  }
 ],
 "metadata": {
  "anaconda-cloud": {},
  "kernelspec": {
   "display_name": "Python [default]",
   "language": "python",
   "name": "python3"
  },
  "language_info": {
   "codemirror_mode": {
    "name": "ipython",
    "version": 3
   },
   "file_extension": ".py",
   "mimetype": "text/x-python",
   "name": "python",
   "nbconvert_exporter": "python",
   "pygments_lexer": "ipython3",
   "version": "3.5.2"
  }
 },
 "nbformat": 4,
 "nbformat_minor": 1
}
