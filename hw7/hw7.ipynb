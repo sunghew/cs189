{
 "cells": [
  {
   "cell_type": "code",
   "execution_count": 199,
   "metadata": {
    "collapsed": true
   },
   "outputs": [],
   "source": [
    "import numpy as np\n",
    "%matplotlib inline\n",
    "import matplotlib.pyplot as plt\n",
    "import scipy.io as sio"
   ]
  },
  {
   "cell_type": "code",
   "execution_count": 51,
   "metadata": {
    "collapsed": false
   },
   "outputs": [],
   "source": [
    "IMG_SIZE = 28*28\n",
    "images = sio.loadmat('hw7_data/mnist_data/images.mat', mat_dtype=True)['images']\n",
    "flattened_images = np.reshape(images, (IMG_SIZE, 60000)).T"
   ]
  },
  {
   "cell_type": "code",
   "execution_count": 202,
   "metadata": {
    "collapsed": false
   },
   "outputs": [],
   "source": [
    "def fit_cluster(x, means, original_cluster):\n",
    "    best_cluster, min_cost = original_cluster, np.linalg.norm(x - means[original_cluster])**2\n",
    "    for i, mu in enumerate(means):\n",
    "        cost = np.linalg.norm(x - mu) ** 2\n",
    "        if cost < min_cost:\n",
    "            best_cluster, min_cost = i, cost\n",
    "    return best_cluster\n",
    "    \n",
    "def k_means(k, images, max_iterations=100, min_change=0):\n",
    "    images = np.reshape(images, (IMG_SIZE, images.shape[2])).T\n",
    "    \n",
    "    # random partition\n",
    "    order = np.arange(images.shape[0])\n",
    "    np.random.shuffle(order)\n",
    "    \n",
    "    clusters = []\n",
    "    for i in range(k):\n",
    "        start, end = len(images) * i // k, len(images) * (i+1) // k\n",
    "        clusters.append(order[start: end])\n",
    "        \n",
    "    i, diffs = 0, float('inf')\n",
    "    while i < max_iterations and diffs > min_change:\n",
    "        print 'Iteration {} starting: diffs {}'.format(i, diffs)\n",
    "        diffs = 0\n",
    "        # phase 1\n",
    "        means = []\n",
    "        for c_indices in clusters:\n",
    "            cluster = np.take(images, c_indices, axis=0)\n",
    "            means.append(np.mean(cluster, axis=0))\n",
    "            \n",
    "        # phase 2\n",
    "        new_clusters = []\n",
    "        for _ in range(k):\n",
    "            new_clusters.append([])\n",
    "            \n",
    "        for cidx, c_indices in enumerate(clusters):\n",
    "            cluster = np.take(images, c_indices, axis=0)\n",
    "            for img_idx, img in zip(c_indices, cluster):\n",
    "                new_cluster_idx = fit_cluster(img, means, cidx)\n",
    "                new_clusters[new_cluster_idx].append(img_idx)\n",
    "                if new_cluster_idx != cidx:\n",
    "                    diffs += 1\n",
    "                    \n",
    "        clusters = new_clusters\n",
    "        i += 1\n",
    "    return means"
   ]
  },
  {
   "cell_type": "code",
   "execution_count": 206,
   "metadata": {
    "collapsed": false,
    "scrolled": false
   },
   "outputs": [
    {
     "name": "stdout",
     "output_type": "stream",
     "text": [
      "Iteration 0 starting: diffs inf\n",
      "Iteration 1 starting: diffs 47193\n",
      "Iteration 2 starting: diffs 17257\n",
      "Iteration 3 starting: diffs 9066\n",
      "Iteration 4 starting: diffs 6044\n",
      "Iteration 5 starting: diffs 4458\n",
      "Iteration 6 starting: diffs 3605\n",
      "Iteration 7 starting: diffs 3111\n",
      "Iteration 8 starting: diffs 2750\n",
      "Iteration 9 starting: diffs 2456\n",
      "Iteration 10 starting: diffs 2204\n",
      "Iteration 11 starting: diffs 1777\n",
      "Iteration 12 starting: diffs 1526\n",
      "Iteration 13 starting: diffs 1408\n",
      "Iteration 14 starting: diffs 1259\n",
      "Iteration 15 starting: diffs 1009\n",
      "Iteration 16 starting: diffs 737\n",
      "Iteration 17 starting: diffs 491\n",
      "Iteration 18 starting: diffs 292\n",
      "Iteration 19 starting: diffs 215\n",
      "Iteration 20 starting: diffs 138\n",
      "Iteration 21 starting: diffs 94\n",
      "Iteration 22 starting: diffs 59\n",
      "Iteration 23 starting: diffs 26\n",
      "Iteration 24 starting: diffs 26\n",
      "Iteration 25 starting: diffs 16\n",
      "Iteration 26 starting: diffs 6\n",
      "Iteration 27 starting: diffs 6\n",
      "Iteration 28 starting: diffs 8\n",
      "Iteration 29 starting: diffs 5\n",
      "Iteration 30 starting: diffs 4\n",
      "Iteration 31 starting: diffs 2\n",
      "Iteration 32 starting: diffs 1\n"
     ]
    },
    {
     "data": {
      "image/png": "[encoded data removed]",
      "text/plain": [
       "<matplotlib.figure.Figure at 0x1192999d0>"
      ]
     },
     "metadata": {},
     "output_type": "display_data"
    }
   ],
   "source": [
    "centers = k_means(5, images, 300)\n",
    "for i, c in enumerate(centers):\n",
    "    plt.imshow(np.reshape(c, (28, 28)))\n",
    "    plt.savefig('5center{}.png'.format(i))"
   ]
  },
  {
   "cell_type": "code",
   "execution_count": 205,
   "metadata": {
    "collapsed": false
   },
   "outputs": [
    {
     "name": "stdout",
     "output_type": "stream",
     "text": [
      "Iteration 0 starting: diffs inf\n",
      "Iteration 1 starting: diffs 53183\n",
      "Iteration 2 starting: diffs 20018\n",
      "Iteration 3 starting: diffs 10175\n",
      "Iteration 4 starting: diffs 6464\n",
      "Iteration 5 starting: diffs 4182\n",
      "Iteration 6 starting: diffs 2848\n",
      "Iteration 7 starting: diffs 2114\n",
      "Iteration 8 starting: diffs 1706\n",
      "Iteration 9 starting: diffs 1478\n",
      "Iteration 10 starting: diffs 1228\n",
      "Iteration 11 starting: diffs 1084\n",
      "Iteration 12 starting: diffs 937\n",
      "Iteration 13 starting: diffs 813\n",
      "Iteration 14 starting: diffs 754\n",
      "Iteration 15 starting: diffs 653\n",
      "Iteration 16 starting: diffs 538\n",
      "Iteration 17 starting: diffs 530\n",
      "Iteration 18 starting: diffs 512\n",
      "Iteration 19 starting: diffs 479\n",
      "Iteration 20 starting: diffs 486\n",
      "Iteration 21 starting: diffs 556\n",
      "Iteration 22 starting: diffs 637\n",
      "Iteration 23 starting: diffs 727\n",
      "Iteration 24 starting: diffs 810\n",
      "Iteration 25 starting: diffs 981\n",
      "Iteration 26 starting: diffs 1076\n",
      "Iteration 27 starting: diffs 1143\n",
      "Iteration 28 starting: diffs 1104\n",
      "Iteration 29 starting: diffs 1022\n",
      "Iteration 30 starting: diffs 903\n",
      "Iteration 31 starting: diffs 882\n",
      "Iteration 32 starting: diffs 832\n",
      "Iteration 33 starting: diffs 765\n",
      "Iteration 34 starting: diffs 803\n",
      "Iteration 35 starting: diffs 788\n",
      "Iteration 36 starting: diffs 749\n",
      "Iteration 37 starting: diffs 608\n",
      "Iteration 38 starting: diffs 590\n",
      "Iteration 39 starting: diffs 477\n",
      "Iteration 40 starting: diffs 412\n",
      "Iteration 41 starting: diffs 309\n",
      "Iteration 42 starting: diffs 273\n",
      "Iteration 43 starting: diffs 223\n",
      "Iteration 44 starting: diffs 193\n",
      "Iteration 45 starting: diffs 158\n",
      "Iteration 46 starting: diffs 136\n",
      "Iteration 47 starting: diffs 103\n",
      "Iteration 48 starting: diffs 95\n",
      "Iteration 49 starting: diffs 65\n",
      "Iteration 50 starting: diffs 64\n",
      "Iteration 51 starting: diffs 64\n",
      "Iteration 52 starting: diffs 60\n",
      "Iteration 53 starting: diffs 49\n",
      "Iteration 54 starting: diffs 46\n",
      "Iteration 55 starting: diffs 40\n",
      "Iteration 56 starting: diffs 44\n",
      "Iteration 57 starting: diffs 47\n",
      "Iteration 58 starting: diffs 47\n",
      "Iteration 59 starting: diffs 40\n",
      "Iteration 60 starting: diffs 30\n",
      "Iteration 61 starting: diffs 16\n",
      "Iteration 62 starting: diffs 22\n",
      "Iteration 63 starting: diffs 22\n",
      "Iteration 64 starting: diffs 26\n",
      "Iteration 65 starting: diffs 12\n",
      "Iteration 66 starting: diffs 9\n",
      "Iteration 67 starting: diffs 4\n",
      "Iteration 68 starting: diffs 1\n",
      "Iteration 69 starting: diffs 3\n",
      "Iteration 70 starting: diffs 5\n",
      "Iteration 71 starting: diffs 4\n",
      "Iteration 72 starting: diffs 7\n",
      "Iteration 73 starting: diffs 9\n",
      "Iteration 74 starting: diffs 4\n",
      "Iteration 75 starting: diffs 2\n",
      "Iteration 76 starting: diffs 1\n",
      "Iteration 77 starting: diffs 1\n"
     ]
    },
    {
     "data": {
      "image/png": "[encoded data removed]",
      "text/plain": [
       "<matplotlib.figure.Figure at 0x119012990>"
      ]
     },
     "metadata": {},
     "output_type": "display_data"
    }
   ],
   "source": [
    "cluster_centers = k_means(10, images, 300)\n",
    "for i, c in enumerate(cluster_centers):\n",
    "    plt.imshow(np.reshape(c, (28, 28)))\n",
    "    plt.savefig('10mnist_center{}.png'.format(i))"
   ]
  },
  {
   "cell_type": "code",
   "execution_count": 207,
   "metadata": {
    "collapsed": false
   },
   "outputs": [
    {
     "name": "stdout",
     "output_type": "stream",
     "text": [
      "Iteration 0 starting: diffs inf\n",
      "Iteration 1 starting: diffs 56322\n",
      "Iteration 2 starting: diffs 23201\n",
      "Iteration 3 starting: diffs 12618\n",
      "Iteration 4 starting: diffs 8736\n",
      "Iteration 5 starting: diffs 6568\n",
      "Iteration 6 starting: diffs 5196\n",
      "Iteration 7 starting: diffs 4059\n",
      "Iteration 8 starting: diffs 3297\n",
      "Iteration 9 starting: diffs 2702\n",
      "Iteration 10 starting: diffs 2161\n",
      "Iteration 11 starting: diffs 1604\n",
      "Iteration 12 starting: diffs 1228\n",
      "Iteration 13 starting: diffs 920\n",
      "Iteration 14 starting: diffs 756\n",
      "Iteration 15 starting: diffs 583\n",
      "Iteration 16 starting: diffs 477\n",
      "Iteration 17 starting: diffs 379\n",
      "Iteration 18 starting: diffs 318\n",
      "Iteration 19 starting: diffs 299\n",
      "Iteration 20 starting: diffs 273\n",
      "Iteration 21 starting: diffs 241\n",
      "Iteration 22 starting: diffs 211\n",
      "Iteration 23 starting: diffs 206\n",
      "Iteration 24 starting: diffs 227\n",
      "Iteration 25 starting: diffs 213\n",
      "Iteration 26 starting: diffs 188\n",
      "Iteration 27 starting: diffs 188\n",
      "Iteration 28 starting: diffs 186\n",
      "Iteration 29 starting: diffs 185\n",
      "Iteration 30 starting: diffs 170\n",
      "Iteration 31 starting: diffs 172\n",
      "Iteration 32 starting: diffs 180\n",
      "Iteration 33 starting: diffs 210\n",
      "Iteration 34 starting: diffs 188\n",
      "Iteration 35 starting: diffs 183\n",
      "Iteration 36 starting: diffs 189\n",
      "Iteration 37 starting: diffs 184\n",
      "Iteration 38 starting: diffs 215\n",
      "Iteration 39 starting: diffs 236\n",
      "Iteration 40 starting: diffs 235\n",
      "Iteration 41 starting: diffs 256\n",
      "Iteration 42 starting: diffs 264\n",
      "Iteration 43 starting: diffs 279\n",
      "Iteration 44 starting: diffs 274\n",
      "Iteration 45 starting: diffs 291\n",
      "Iteration 46 starting: diffs 298\n",
      "Iteration 47 starting: diffs 292\n",
      "Iteration 48 starting: diffs 278\n",
      "Iteration 49 starting: diffs 248\n",
      "Iteration 50 starting: diffs 249\n",
      "Iteration 51 starting: diffs 239\n",
      "Iteration 52 starting: diffs 225\n",
      "Iteration 53 starting: diffs 223\n",
      "Iteration 54 starting: diffs 216\n",
      "Iteration 55 starting: diffs 202\n",
      "Iteration 56 starting: diffs 193\n",
      "Iteration 57 starting: diffs 216\n",
      "Iteration 58 starting: diffs 223\n",
      "Iteration 59 starting: diffs 191\n",
      "Iteration 60 starting: diffs 201\n",
      "Iteration 61 starting: diffs 169\n",
      "Iteration 62 starting: diffs 154\n",
      "Iteration 63 starting: diffs 142\n",
      "Iteration 64 starting: diffs 127\n",
      "Iteration 65 starting: diffs 118\n",
      "Iteration 66 starting: diffs 122\n",
      "Iteration 67 starting: diffs 85\n",
      "Iteration 68 starting: diffs 73\n",
      "Iteration 69 starting: diffs 54\n",
      "Iteration 70 starting: diffs 36\n",
      "Iteration 71 starting: diffs 29\n",
      "Iteration 72 starting: diffs 31\n",
      "Iteration 73 starting: diffs 23\n",
      "Iteration 74 starting: diffs 23\n",
      "Iteration 75 starting: diffs 23\n",
      "Iteration 76 starting: diffs 23\n",
      "Iteration 77 starting: diffs 29\n",
      "Iteration 78 starting: diffs 25\n",
      "Iteration 79 starting: diffs 25\n",
      "Iteration 80 starting: diffs 14\n",
      "Iteration 81 starting: diffs 11\n",
      "Iteration 82 starting: diffs 9\n",
      "Iteration 83 starting: diffs 2\n",
      "Iteration 84 starting: diffs 3\n",
      "Iteration 85 starting: diffs 4\n",
      "Iteration 86 starting: diffs 5\n",
      "Iteration 87 starting: diffs 2\n",
      "Iteration 88 starting: diffs 4\n",
      "Iteration 89 starting: diffs 2\n",
      "Iteration 90 starting: diffs 2\n",
      "Iteration 91 starting: diffs 1\n",
      "Iteration 92 starting: diffs 1\n",
      "Iteration 93 starting: diffs 1\n",
      "Iteration 94 starting: diffs 2\n",
      "Iteration 95 starting: diffs 3\n"
     ]
    },
    {
     "data": {
      "image/png": "[encoded data removed]",
      "text/plain": [
       "<matplotlib.figure.Figure at 0x1194f2290>"
      ]
     },
     "metadata": {},
     "output_type": "display_data"
    }
   ],
   "source": [
    "centers = k_means(20, images, 300)\n",
    "for i, c in enumerate(centers):\n",
    "    plt.imshow(np.reshape(c, (28, 28)))\n",
    "    plt.savefig('20center{}.png'.format(i))"
   ]
  },
  {
   "cell_type": "code",
   "execution_count": null,
   "metadata": {
    "collapsed": true
   },
   "outputs": [],
   "source": []
  },
  {
   "cell_type": "code",
   "execution_count": null,
   "metadata": {
    "collapsed": true
   },
   "outputs": [],
   "source": []
  }
 ],
 "metadata": {
  "anaconda-cloud": {},
  "kernelspec": {
   "display_name": "Python [conda env:python2]",
   "language": "python",
   "name": "conda-env-python2-py"
  },
  "language_info": {
   "codemirror_mode": {
    "name": "ipython",
    "version": 2
   },
   "file_extension": ".py",
   "mimetype": "text/x-python",
   "name": "python",
   "nbconvert_exporter": "python",
   "pygments_lexer": "ipython2",
   "version": "2.7.13"
  }
 },
 "nbformat": 4,
 "nbformat_minor": 1
}
