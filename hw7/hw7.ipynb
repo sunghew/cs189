{
 "cells": [
  {
   "cell_type": "code",
   "execution_count": 1,
   "metadata": {
    "collapsed": true
   },
   "outputs": [],
   "source": [
    "import numpy as np\n",
    "import pandas as pd\n",
    "%matplotlib inline\n",
    "import matplotlib.pyplot as plt\n",
    "import scipy.io as sio"
   ]
  },
  {
   "cell_type": "code",
   "execution_count": 51,
   "metadata": {
    "collapsed": false
   },
   "outputs": [],
   "source": [
    "IMG_SIZE = 28*28\n",
    "images = sio.loadmat('hw7_data/mnist_data/images.mat', mat_dtype=True)['images']\n",
    "flattened_images = np.reshape(images, (IMG_SIZE, 60000)).T"
   ]
  },
  {
   "cell_type": "code",
   "execution_count": 81,
   "metadata": {
    "collapsed": false
   },
   "outputs": [],
   "source": [
    "def lloyd_objective_function(clusters, means):\n",
    "    total = 0\n",
    "    for c, mu in zip(clusters, means):\n",
    "        for sample in c:\n",
    "            total += np.linalg.norm(sample - mu) ** 2\n",
    "            \n",
    "def fit_cluster(x, means, original_cluster):\n",
    "    best_cluster, min_cost = original_cluster, np.linalg(x - means[original_cluster])**2\n",
    "    for i, mu in enumerate(means):\n",
    "        cost = np.linalg(x - mu) ** 2\n",
    "        if cost < min_cost:\n",
    "            best_cluster, min_cost = i, cost\n",
    "    return best_cluster, min_cost\n",
    "    \n",
    "def lloyd(k, images, max_iterations=100, min_change=0):\n",
    "    # Forgy method initialization\n",
    "    seeds = images[np.random.choice(images.shape[0], k, replace=False), :]\n",
    "    \n",
    "    means = []\n",
    "    for i, s in enumerate(seeds):\n",
    "        means[i] = np.reshape(s, (1, IMG_SIZE))\n",
    "        \n",
    "    clusters = {}\n",
    "    for i in range(len(means)):\n",
    "        clusters[i] = []\n",
    "    \n",
    "    for img in images:\n",
    "        clusters[fit_cluster(img, means, 0)].append(img)\n",
    "        \n",
    "    i, diffs = 0, float('inf')\n",
    "    while i < max_iterations and diffs > min_change: # also check for assignment changes\n",
    "        # used by phase 2\n",
    "        diffs = []\n",
    "        \n",
    "        # phase 1\n",
    "        means = []\n",
    "        for c in clusters:\n",
    "            means.append(np.mean(c, axis=0))\n",
    "        \n",
    "        # phase 2\n",
    "        new_clusters = {}\n",
    "        for i in range(len(clusters)):\n",
    "            new_clusters[i] = []\n",
    "            \n",
    "        for ci, cluster in clusters.iteritems():\n",
    "            for x in cluster:\n",
    "                new_ci = fit_cluster(x, means, ci)\n",
    "                new_clusters[new_ci].apppend(x)\n",
    "                if new_ci != ci:\n",
    "                    diffs += 1\n",
    "                \n",
    "        clusters = new_clusters\n",
    "        \n",
    "        i += 1\n",
    "    return clusters"
   ]
  },
  {
   "cell_type": "code",
   "execution_count": 40,
   "metadata": {
    "collapsed": false
   },
   "outputs": [
    {
     "name": "stdout",
     "output_type": "stream",
     "text": [
      "2598.14183601\n"
     ]
    }
   ],
   "source": []
  },
  {
   "cell_type": "code",
   "execution_count": 50,
   "metadata": {
    "collapsed": false
   },
   "outputs": [
    {
     "name": "stdout",
     "output_type": "stream",
     "text": [
      "(1, 3) (3, 3)\n",
      "[[0 0 0]\n",
      " [3 3 3]\n",
      " [6 6 6]]\n"
     ]
    }
   ],
   "source": [
    "b = np.array([[1,2,3], [4,5,6], [7,8,9]])\n",
    "a = np.array([[1], [2], [3]]).T\n",
    "print a.shape, b.shape\n",
    "print b - a"
   ]
  },
  {
   "cell_type": "code",
   "execution_count": 74,
   "metadata": {
    "collapsed": false
   },
   "outputs": [
    {
     "data": {
      "text/plain": [
       "array([[10, 11, 12],\n",
       "       [ 1,  2,  3],\n",
       "       [ 7,  8,  9],\n",
       "       [ 4,  5,  6]])"
      ]
     },
     "execution_count": 74,
     "metadata": {},
     "output_type": "execute_result"
    }
   ],
   "source": [
    "A = np.array([[1,2,3], [4,5,6], [7,8,9], [10, 11, 12]])\n",
    "A[np.random.choice(A.shape[0], 4, replace=False), :]"
   ]
  },
  {
   "cell_type": "code",
   "execution_count": 79,
   "metadata": {
    "collapsed": false
   },
   "outputs": [
    {
     "name": "stdout",
     "output_type": "stream",
     "text": [
      "[[ 1  2  3]\n",
      " [ 4  5  6]\n",
      " [ 7  8  9]\n",
      " [10 11 12]] (4, 3)\n"
     ]
    },
    {
     "data": {
      "text/plain": [
       "array([ 5.5,  6.5,  7.5])"
      ]
     },
     "execution_count": 79,
     "metadata": {},
     "output_type": "execute_result"
    }
   ],
   "source": [
    "print A, A.shape\n",
    "np.mean(A, axis=0)"
   ]
  },
  {
   "cell_type": "code",
   "execution_count": 80,
   "metadata": {
    "collapsed": false
   },
   "outputs": [
    {
     "name": "stdout",
     "output_type": "stream",
     "text": [
      "0 1\n",
      "1 2\n",
      "2 3\n",
      "3 4\n",
      "4 5\n"
     ]
    }
   ],
   "source": [
    "arr = [1, 2, 3, 4, 5]\n",
    "for i, j in enumerate(arr):\n",
    "    print i, j"
   ]
  },
  {
   "cell_type": "code",
   "execution_count": null,
   "metadata": {
    "collapsed": true
   },
   "outputs": [],
   "source": []
  }
 ],
 "metadata": {
  "anaconda-cloud": {},
  "kernelspec": {
   "display_name": "Python [conda env:python2]",
   "language": "python",
   "name": "conda-env-python2-py"
  },
  "language_info": {
   "codemirror_mode": {
    "name": "ipython",
    "version": 2
   },
   "file_extension": ".py",
   "mimetype": "text/x-python",
   "name": "python",
   "nbconvert_exporter": "python",
   "pygments_lexer": "ipython2",
   "version": "2.7.13"
  }
 },
 "nbformat": 4,
 "nbformat_minor": 1
}
