{
 "cells": [
  {
   "cell_type": "markdown",
   "metadata": {},
   "source": [
    "Christopher Chon  \n",
    "SID: 25235758\n",
    "\n",
    "# Homework 1  \n",
    "Collaborators: Tanay Nathan, Stefan Palombo, David Ko"
   ]
  },
  {
   "cell_type": "markdown",
   "metadata": {},
   "source": [
    "# PROBLEM 1: Data Partitioning"
   ]
  },
  {
   "cell_type": "markdown",
   "metadata": {},
   "source": [
    "For the MNIST dataset, the `mnist(filepath)` function was implemented and used. This function set aside 10,000 training images as a validation set. For the Spam dataset, the `spam(filepath)` function was implemented and used. This function set aside 20% training samples as a validation set. Finally for the CIFAR-10 dataset, the `cifar10(filepath)` function was implemented and used. For this 5,000 training images were set aside as a validation set. NumPy and SciPy were mainly used for this problem. In order to have a validation set that would have all classes represented, the training images were all selected pseudo-randomly by taking the allocated number of training images from the top after running `np.random.shuffle` on the datasets."
   ]
  },
  {
   "cell_type": "code",
   "execution_count": 103,
   "metadata": {
    "collapsed": true
   },
   "outputs": [],
   "source": [
    "import numpy as np\n",
    "import scipy.io as sio\n",
    "%matplotlib inline\n",
    "import matplotlib.pyplot as plt\n",
    "from sklearn.svm import SVC\n",
    "from sklearn.model_selection import KFold"
   ]
  },
  {
   "cell_type": "code",
   "execution_count": 104,
   "metadata": {
    "collapsed": true
   },
   "outputs": [],
   "source": [
    "MNIST_FILEPATH = \"hw01_data/mnist/train.mat\"\n",
    "NUM_MNIST_TRAINING_IMAGES = 10000\n",
    "SPAM_FILEPATH = \"hw01_data/spam/spam_data.mat\"\n",
    "FRAC_SPAM_TRAINING = 0.2\n",
    "CIFAR10_FILEPATH = \"hw01_data/cifar/train.mat\"\n",
    "NUM_CIFAR_TRAINING_IMAGES = 5000"
   ]
  },
  {
   "cell_type": "code",
   "execution_count": 105,
   "metadata": {
    "collapsed": false
   },
   "outputs": [],
   "source": [
    "def mnist(filepath):\n",
    "    data = sio.loadmat(filepath)[\"trainX\"]\n",
    "    np.random.shuffle(data)\n",
    "    order = np.arange(data.shape[1] - 1)\n",
    "    training_data = np.take(data, order, 1)\n",
    "    labels = np.take(data, [-1], 1)\n",
    "    return training_data[:NUM_MNIST_TRAINING_IMAGES], labels[:NUM_MNIST_TRAINING_IMAGES], \\\n",
    "            training_data[NUM_MNIST_TRAINING_IMAGES:], labels[NUM_MNIST_TRAINING_IMAGES:]\n",
    "    \n",
    "def print_mnist(arr, label):\n",
    "    mnist_image = \"\"\n",
    "    for x in range(28 * 28 - 1):\n",
    "        if x % 28 == 0:\n",
    "            mnist_image += '\\n'\n",
    "        if (arr[x] == 0):\n",
    "            mnist_image += ' '\n",
    "        else:\n",
    "            mnist_image += '*'\n",
    "    print(mnist_image)\n",
    "    print(label)\n",
    "    \n",
    "def spam(filepath):\n",
    "    data = sio.loadmat(filepath)\n",
    "    order = np.arange(data[\"training_data\"].shape[0])\n",
    "    np.random.shuffle(order)\n",
    "    training_data = np.take(data[\"training_data\"], order, 0)\n",
    "    labels = np.take(data[\"training_labels\"], order, 1).T\n",
    "    \n",
    "    num_validation = int(labels.shape[0] * FRAC_SPAM_TRAINING)\n",
    "    return training_data[:num_validation], labels[:num_validation], \\\n",
    "            training_data[num_validation:], labels[num_validation:]\n",
    "\n",
    "def cifar10(filepath):\n",
    "    data = sio.loadmat(filepath)[\"trainX\"]\n",
    "    np.random.shuffle(data)\n",
    "    order = np.arange(data.shape[1] - 1)\n",
    "    training_data = np.take(data, order, 1)\n",
    "    labels = np.take(data, [-1], 1)\n",
    "    return training_data[:NUM_CIFAR_TRAINING_IMAGES], labels[:NUM_CIFAR_TRAINING_IMAGES], \\\n",
    "            training_data[NUM_CIFAR_TRAINING_IMAGES:], labels[NUM_CIFAR_TRAINING_IMAGES:]"
   ]
  },
  {
   "cell_type": "code",
   "execution_count": 106,
   "metadata": {
    "collapsed": false
   },
   "outputs": [],
   "source": [
    "mnist_data = mnist(MNIST_FILEPATH)\n",
    "spam_data = spam(SPAM_FILEPATH)\n",
    "cifar10_data = cifar10(CIFAR10_FILEPATH)"
   ]
  },
  {
   "cell_type": "markdown",
   "metadata": {},
   "source": [
    "# PROBLEM 2: Training Linear SVM"
   ]
  },
  {
   "cell_type": "markdown",
   "metadata": {},
   "source": [
    "Linear Support Vector Machines (SVMs) were trained on each of the training datasets given in the previous problem and validated against the validation set partitioned from the training set. The particular Linear SVM used was `sklearn.svm(kernel='linear')`."
   ]
  },
  {
   "cell_type": "markdown",
   "metadata": {},
   "source": [
    "## MNIST"
   ]
  },
  {
   "cell_type": "markdown",
   "metadata": {},
   "source": [
    "For the MNIST dataset, seven Linear SVMs were trained on the MNIST dataset sample sizes of 100, 200, 500, 1,000, 2,000, 5,000, and 10,000."
   ]
  },
  {
   "cell_type": "code",
   "execution_count": 107,
   "metadata": {
    "collapsed": true
   },
   "outputs": [],
   "source": [
    "def mnist_learn(vd, vl, td, tl, sample_sizes):\n",
    "    linearsvms = {}\n",
    "    for num_samples in sample_sizes:\n",
    "        s = SVC(kernel='linear')\n",
    "        s.fit(np.take(td, np.arange(num_samples), 0), np.ravel(np.take(tl, np.arange(num_samples), 0)))\n",
    "        linearsvms[num_samples] = s\n",
    "    return linearsvms"
   ]
  },
  {
   "cell_type": "code",
   "execution_count": 108,
   "metadata": {
    "collapsed": false,
    "scrolled": true
   },
   "outputs": [],
   "source": [
    "mnist_vd, mnist_vl, mnist_td, mnist_tl = mnist(MNIST_FILEPATH)\n",
    "mnist_linearsvms = mnist_learn(mnist_vd, mnist_vl, mnist_td, mnist_tl, [100, 200, 500, 1000, 2000, 5000, 10000])"
   ]
  },
  {
   "cell_type": "markdown",
   "metadata": {},
   "source": [
    "### Training"
   ]
  },
  {
   "cell_type": "markdown",
   "metadata": {},
   "source": [
    "The printed values are the sample size with the training accuracy score on the MNIST dataset."
   ]
  },
  {
   "cell_type": "code",
   "execution_count": 109,
   "metadata": {
    "collapsed": false
   },
   "outputs": [
    {
     "name": "stdout",
     "output_type": "stream",
     "text": [
      "2000 0.9\n",
      "1000 0.88322\n",
      "5000 0.91502\n",
      "500 0.85698\n",
      "200 0.82502\n",
      "100 0.72036\n",
      "10000 0.9271\n"
     ]
    }
   ],
   "source": [
    "mnist_training_sample_sizes, mnist_training_error_rate = [], []\n",
    "for k, s in mnist_linearsvms.items():\n",
    "    mnist_training_score = s.score(mnist_td, mnist_tl)\n",
    "    print(k, mnist_training_score)\n",
    "    mnist_training_sample_sizes.append(k)\n",
    "    mnist_training_error_rate.append(1 - mnist_training_score)"
   ]
  },
  {
   "cell_type": "code",
   "execution_count": 112,
   "metadata": {
    "collapsed": false
   },
   "outputs": [
    {
     "data": {
      "image/png": "[encoded data removed]",
      "text/plain": [
       "<matplotlib.figure.Figure at 0x109b2fbe0>"
      ]
     },
     "metadata": {},
     "output_type": "display_data"
    }
   ],
   "source": [
    "plt.scatter(mnist_training_sample_sizes, mnist_training_error_rate)\n",
    "plt.xlim([0,10000])\n",
    "plt.savefig('mnist_training_plot.png', bbox_inches='tight')\n",
    "plt.show()"
   ]
  },
  {
   "cell_type": "markdown",
   "metadata": {},
   "source": [
    "The training error rate decreased and had the lowest error rate of 0.07 at 10,000 samples. "
   ]
  },
  {
   "cell_type": "markdown",
   "metadata": {},
   "source": [
    "### Validation"
   ]
  },
  {
   "cell_type": "markdown",
   "metadata": {},
   "source": [
    "The printed values are the sample size with the validation accuracy score on the MNIST dataset."
   ]
  },
  {
   "cell_type": "code",
   "execution_count": 34,
   "metadata": {
    "collapsed": false
   },
   "outputs": [
    {
     "name": "stdout",
     "output_type": "stream",
     "text": [
      "2000 0.8979\n",
      "1000 0.889\n",
      "5000 0.9062\n",
      "500 0.8645\n",
      "200 0.8309\n",
      "100 0.7763\n",
      "10000 0.9097\n"
     ]
    }
   ],
   "source": [
    "mnist_validation_sample_sizes, mnist_validation_error_rate = [], []\n",
    "for k, s in mnist_linearsvms.items():\n",
    "    mnist_validation_score = s.score(mnist_vd, mnist_vl)\n",
    "    print(k, mnist_validation_score)\n",
    "    mnist_validation_sample_sizes.append(k)\n",
    "    mnist_validation_error_rate.append(1 - mnist_validation_score)"
   ]
  },
  {
   "cell_type": "code",
   "execution_count": 35,
   "metadata": {
    "collapsed": false
   },
   "outputs": [
    {
     "data": {
      "image/png": "[encoded data removed]",
      "text/plain": [
       "<matplotlib.figure.Figure at 0x10d152ac8>"
      ]
     },
     "metadata": {},
     "output_type": "display_data"
    }
   ],
   "source": [
    "plt.scatter(mnist_validation_sample_sizes, mnist_validation_error_rate)\n",
    "plt.xlim([0,10000])\n",
    "plt.show()"
   ]
  },
  {
   "cell_type": "markdown",
   "metadata": {},
   "source": [
    "The validation error rate decreased and had the lowest error rate of 0.09 at 10,000 samples. "
   ]
  },
  {
   "cell_type": "markdown",
   "metadata": {},
   "source": [
    "## SPAM"
   ]
  },
  {
   "cell_type": "markdown",
   "metadata": {},
   "source": [
    "For the Spam dataset, six Linear SVMs were trained on the MNIST dataset sample sizes of 100, 200, 500, 1,000, 2,000, and 4,138."
   ]
  },
  {
   "cell_type": "code",
   "execution_count": 38,
   "metadata": {
    "collapsed": true
   },
   "outputs": [],
   "source": [
    "spam_linearsvms = {}\n",
    "spam_vd, spam_vl, spam_td, spam_tl = spam(SPAM_FILEPATH)"
   ]
  },
  {
   "cell_type": "code",
   "execution_count": 39,
   "metadata": {
    "collapsed": false
   },
   "outputs": [],
   "source": [
    "for num_samples in [100, 200, 500, 1000, 2000, len(spam_data[2])]:\n",
    "    s = SVC(kernel='linear')\n",
    "    s.fit(np.take(spam_td, np.arange(num_samples), 0), np.ravel(np.take(spam_tl, np.arange(num_samples), 0)))\n",
    "    spam_linearsvms[num_samples] = s"
   ]
  },
  {
   "cell_type": "markdown",
   "metadata": {},
   "source": [
    "### Training"
   ]
  },
  {
   "cell_type": "markdown",
   "metadata": {},
   "source": [
    "The printed values are the sample size with the training accuracy score on the Spam dataset."
   ]
  },
  {
   "cell_type": "code",
   "execution_count": 47,
   "metadata": {
    "collapsed": false
   },
   "outputs": [
    {
     "name": "stdout",
     "output_type": "stream",
     "text": [
      "2000 0.803044949251\n",
      "1000 0.802803286612\n",
      "500 0.786370227163\n",
      "200 0.767037216046\n",
      "100 0.760512324795\n",
      "4138 0.8008699855\n"
     ]
    }
   ],
   "source": [
    "spam_training_sample_sizes, spam_training_error_rate = [], []\n",
    "for num_samples, s in spam_linearsvms.items():        \n",
    "    spam_training_error_rate.append(1 - s.score(spam_td, spam_tl))\n",
    "    spam_training_sample_sizes.append(num_samples)\n",
    "    print(num_samples, 1 - spam_training_error_rate[-1])"
   ]
  },
  {
   "cell_type": "code",
   "execution_count": 49,
   "metadata": {
    "collapsed": false
   },
   "outputs": [
    {
     "data": {
      "image/png": "[encoded data removed]",
      "text/plain": [
       "<matplotlib.figure.Figure at 0x116593358>"
      ]
     },
     "metadata": {},
     "output_type": "display_data"
    }
   ],
   "source": [
    "plt.scatter(spam_training_sample_sizes, spam_training_error_rate)\n",
    "plt.xlim([0, len(spam_data[2])])\n",
    "plt.show()"
   ]
  },
  {
   "cell_type": "markdown",
   "metadata": {},
   "source": [
    "The training error rate decreased, but had the lowest error rate of 0.197 at 2000 samples. "
   ]
  },
  {
   "cell_type": "markdown",
   "metadata": {},
   "source": [
    "### Validation"
   ]
  },
  {
   "cell_type": "markdown",
   "metadata": {},
   "source": [
    "The printed values are the sample size with the validation accuracy score on the Spam dataset."
   ]
  },
  {
   "cell_type": "code",
   "execution_count": 54,
   "metadata": {
    "collapsed": false
   },
   "outputs": [
    {
     "name": "stdout",
     "output_type": "stream",
     "text": [
      "2000 0.804642166344\n",
      "1000 0.816247582205\n",
      "500 0.771760154739\n",
      "200 0.750483558994\n",
      "100 0.750483558994\n",
      "4138 0.797872340426\n"
     ]
    }
   ],
   "source": [
    "spam_validation_sample_sizes, spam_validation_error_rate = [], []\n",
    "for num_samples, s in spam_linearsvms.items():        \n",
    "    spam_validation_error_rate.append(1 - s.score(spam_vd, spam_vl))\n",
    "    spam_validation_sample_sizes.append(num_samples)\n",
    "    print(num_samples, 1 - spam_validation_error_rate[-1])"
   ]
  },
  {
   "cell_type": "code",
   "execution_count": 55,
   "metadata": {
    "collapsed": false
   },
   "outputs": [
    {
     "data": {
      "image/png": "[encoded data removed]",
      "text/plain": [
       "<matplotlib.figure.Figure at 0x10dc3d400>"
      ]
     },
     "metadata": {},
     "output_type": "display_data"
    }
   ],
   "source": [
    "plt.scatter(spam_validation_sample_sizes, spam_validation_error_rate)\n",
    "plt.xlim([0, len(spam_data[2])])\n",
    "plt.show()"
   ]
  },
  {
   "cell_type": "markdown",
   "metadata": {},
   "source": [
    "The validation error rate had the lowest error rate of 0.184 at 1,000 samples. "
   ]
  },
  {
   "cell_type": "markdown",
   "metadata": {},
   "source": [
    "## CIFAR-10"
   ]
  },
  {
   "cell_type": "markdown",
   "metadata": {},
   "source": [
    "For the CIFAR-10 dataset, six Linear SVMs were trained on the MNIST dataset sample sizes of 100, 200, 500, 1,000, 2,000, and 5,000."
   ]
  },
  {
   "cell_type": "code",
   "execution_count": 59,
   "metadata": {
    "collapsed": true
   },
   "outputs": [],
   "source": [
    "cifar10_linearsvms = {}\n",
    "cifar10_vd, cifar10_vl, cifar10_td, cifar10_tl = cifar10(CIFAR10_FILEPATH)"
   ]
  },
  {
   "cell_type": "code",
   "execution_count": 60,
   "metadata": {
    "collapsed": false
   },
   "outputs": [],
   "source": [
    "for num_samples in [100, 200, 500, 1000, 2000, 5000]:\n",
    "    s = SVC(kernel='linear')\n",
    "    s.fit(np.take(cifar10_td, np.arange(num_samples), 0), np.ravel(np.take(cifar10_tl, np.arange(num_samples), 0)))\n",
    "    cifar10_linearsvms[num_samples] = s"
   ]
  },
  {
   "cell_type": "markdown",
   "metadata": {},
   "source": [
    "### Training"
   ]
  },
  {
   "cell_type": "code",
   "execution_count": 61,
   "metadata": {
    "collapsed": false
   },
   "outputs": [
    {
     "name": "stdout",
     "output_type": "stream",
     "text": [
      "2000 0.317466666667\n",
      "1000 0.296911111111\n",
      "5000 0.374533333333\n",
      "500 0.278777777778\n",
      "200 0.228733333333\n",
      "100 0.2134\n"
     ]
    }
   ],
   "source": [
    "cifar10_training_sample_sizes, cifar10_training_error_rate = [], []\n",
    "for num_samples, s in cifar10_linearsvms.items():        \n",
    "    cifar10_training_error_rate.append(1 - s.score(cifar10_td, cifar10_tl))\n",
    "    cifar10_training_sample_sizes.append(num_samples)\n",
    "    print(num_samples, 1 - cifar10_training_error_rate[-1])"
   ]
  },
  {
   "cell_type": "code",
   "execution_count": 62,
   "metadata": {
    "collapsed": false
   },
   "outputs": [
    {
     "data": {
      "image/png": "[encoded data removed]",
      "text/plain": [
       "<matplotlib.figure.Figure at 0x10dcde940>"
      ]
     },
     "metadata": {},
     "output_type": "display_data"
    }
   ],
   "source": [
    "plt.scatter(cifar10_sample_sizes, cifar10_error_rate)\n",
    "plt.xlim([0,5000])\n",
    "plt.show()"
   ]
  },
  {
   "cell_type": "markdown",
   "metadata": {},
   "source": [
    "The training error rate decreased and had the lowest error rate of 0.646 at 5,000 samples. "
   ]
  },
  {
   "cell_type": "markdown",
   "metadata": {},
   "source": [
    "### Validation"
   ]
  },
  {
   "cell_type": "code",
   "execution_count": 63,
   "metadata": {
    "collapsed": false
   },
   "outputs": [
    {
     "name": "stdout",
     "output_type": "stream",
     "text": [
      "2000 0.2958\n",
      "1000 0.284\n",
      "5000 0.3\n",
      "500 0.2712\n",
      "200 0.2292\n",
      "100 0.212\n"
     ]
    }
   ],
   "source": [
    "cifar10_validation_sample_sizes, cifar10_validation_error_rate = [], []\n",
    "for num_samples, s in cifar10_linearsvms.items():        \n",
    "    cifar10_validation_error_rate.append(1 - s.score(cifar10_vd, cifar10_vl))\n",
    "    cifar10_validation_sample_sizes.append(num_samples)\n",
    "    print(num_samples, 1 - cifar10_validation_error_rate[-1])"
   ]
  },
  {
   "cell_type": "code",
   "execution_count": 64,
   "metadata": {
    "collapsed": false
   },
   "outputs": [
    {
     "data": {
      "image/png": "[encoded data removed]",
      "text/plain": [
       "<matplotlib.figure.Figure at 0x10de0c128>"
      ]
     },
     "metadata": {},
     "output_type": "display_data"
    }
   ],
   "source": [
    "plt.scatter(cifar10_validation_sample_sizes, cifar10_validation_error_rate)\n",
    "plt.xlim([0,5000])\n",
    "plt.show()"
   ]
  },
  {
   "cell_type": "markdown",
   "metadata": {},
   "source": [
    "The validation error rate decreased and had the lowest error rate of 0.7 at 5,000 samples. "
   ]
  },
  {
   "cell_type": "markdown",
   "metadata": {},
   "source": [
    "# Problem 3:  MNIST Hyperparameter Tuning"
   ]
  },
  {
   "cell_type": "markdown",
   "metadata": {},
   "source": [
    "In order to find the best `C` hyperparameter value, I trained many Linear SVMs with different `C` values in different order of magnitude but with the same sample size of 2000. Where `C = 10 ** x`, I tried values of `x` in the range -21 to 2. The best C value was 10E-6."
   ]
  },
  {
   "cell_type": "code",
   "execution_count": 115,
   "metadata": {
    "collapsed": false
   },
   "outputs": [],
   "source": [
    "def mnist_learn(td, tl, C, sample_sizes):\n",
    "    linearsvms = {}\n",
    "    for num_samples in sample_sizes:\n",
    "        s = SVC(C=C, kernel='linear')\n",
    "        s.fit(np.take(td, np.arange(num_samples), 0), np.ravel(np.take(tl, np.arange(num_samples), 0)))\n",
    "        linearsvms[num_samples] = s\n",
    "    return linearsvms\n",
    "\n",
    "def check_mnist_hyperparameter(x, y, sample_size):\n",
    "    results = {}\n",
    "    for C in range(x, y):\n",
    "        lsvms = mnist_learn(mnist_td, mnist_tl, 10 ** C, [sample_size])\n",
    "        score = lsvms[sample_size].score(mnist_vd, mnist_vl)\n",
    "        print(C, score)\n",
    "        results[C] = score\n",
    "    return results\n",
    "\n",
    "mnist_vd, mnist_vl, mnist_td, mnist_tl = mnist(MNIST_FILEPATH)"
   ]
  },
  {
   "cell_type": "markdown",
   "metadata": {},
   "source": [
    "Below are the C values in order of magnitude (10 ^ x) with its corresponding accuracy with sample size of 2,000"
   ]
  },
  {
   "cell_type": "code",
   "execution_count": 26,
   "metadata": {
    "collapsed": false
   },
   "outputs": [
    {
     "name": "stdout",
     "output_type": "stream",
     "text": [
      "-21 0.179\n",
      "-20 0.1794\n",
      "-19 0.1794\n",
      "-18 0.1794\n",
      "-17 0.1794\n",
      "-16 0.1794\n",
      "-15 0.1794\n",
      "-14 0.1794\n",
      "-13 0.1794\n",
      "-12 0.1794\n",
      "-11 0.1794\n",
      "-10 0.1794\n",
      "-9 0.1794\n",
      "-8 0.7969\n",
      "-7 0.8952\n",
      "-6 0.9005\n",
      "-5 0.8891\n",
      "-4 0.8891\n",
      "-3 0.8891\n",
      "-2 0.8891\n",
      "-1 0.8891\n",
      "0 0.8891\n",
      "1 0.8891\n"
     ]
    }
   ],
   "source": [
    "mnist_results_2000 = check_mnist_hyperparameter(-21, 2, 2000)"
   ]
  },
  {
   "cell_type": "markdown",
   "metadata": {},
   "source": [
    "Below are the C values in order of magnitude (10 ^ x) with its corresponding accuracy with sample size of 10,000"
   ]
  },
  {
   "cell_type": "code",
   "execution_count": 27,
   "metadata": {
    "collapsed": false
   },
   "outputs": [
    {
     "name": "stdout",
     "output_type": "stream",
     "text": [
      "-21 0.1128\n",
      "-20 0.1128\n",
      "-19 0.1128\n",
      "-18 0.1128\n",
      "-17 0.1128\n",
      "-16 0.1128\n",
      "-15 0.1128\n",
      "-14 0.1128\n",
      "-13 0.1128\n",
      "-12 0.1128\n",
      "-11 0.1128\n",
      "-10 0.1128\n",
      "-9 0.6595\n",
      "-8 0.8928\n",
      "-7 0.9251\n",
      "-6 0.9317\n",
      "-5 0.9143\n",
      "-4 0.9069\n",
      "-3 0.9069\n",
      "-2 0.9069\n",
      "-1 0.9069\n",
      "0 0.9069\n",
      "1 0.9069\n"
     ]
    }
   ],
   "source": [
    "mnist_results_10000 = check_mnist_hyperparameter(-21, 2, 10000)"
   ]
  },
  {
   "cell_type": "markdown",
   "metadata": {},
   "source": [
    "for C = 10E-6 with 2000 samples had the max succcess rate of 0.9005 and with 10000 samples had the max success rate of 0.9317"
   ]
  },
  {
   "cell_type": "markdown",
   "metadata": {
    "collapsed": true
   },
   "source": [
    "# Problem 4: K-Fold Cross-Validation"
   ]
  },
  {
   "cell_type": "markdown",
   "metadata": {},
   "source": [
    "In order to find the best C hyperparameter value, I trained many Linear SVMs with different C values in different order of magnitude but done with k-fold validation. Where C = 10 ** x, I tried values of x in the range -21 to 3 as well as C=1...10. The best observed C value was 100."
   ]
  },
  {
   "cell_type": "code",
   "execution_count": 7,
   "metadata": {
    "collapsed": true
   },
   "outputs": [],
   "source": [
    "def spam(filepath):\n",
    "    data = sio.loadmat(filepath)\n",
    "    order = np.arange(data[\"training_data\"].shape[0])\n",
    "    np.random.shuffle(order)\n",
    "    training_data = np.take(data[\"training_data\"], order, 0)\n",
    "    labels = np.take(data[\"training_labels\"], order, 1).T\n",
    "    return training_data, labels\n",
    "\n",
    "spam_training_data, spam_labels = spam(SPAM_FILEPATH)"
   ]
  },
  {
   "cell_type": "code",
   "execution_count": 8,
   "metadata": {
    "collapsed": false
   },
   "outputs": [],
   "source": [
    "def spam_k_fold(C, k=5):\n",
    "    total_score = 0\n",
    "    kf = KFold(n_splits=k, shuffle=True)\n",
    "    for train_index, test_index in kf.split(spam_training_data):\n",
    "        s = SVC(C=C, kernel='linear') \n",
    "        s.fit(np.take(spam_training_data, train_index, 0), np.ravel(np.take(spam_labels, train_index, 0)))\n",
    "        score = s.score(np.take(spam_training_data, test_index, 0), np.take(spam_labels, test_index, 0))\n",
    "#         print(\"score is {}\".format(score))\n",
    "        total_score += score\n",
    "\n",
    "    spam_5_fold_avg_score = total_score / k\n",
    "#     print(\"average score is {}\".format(spam_5_fold_avg_score))\n",
    "    return spam_5_fold_avg_score"
   ]
  },
  {
   "cell_type": "markdown",
   "metadata": {},
   "source": [
    "Below are the C values in order of magnitude (10 ^ x) with its corresponding accuracy with k-fold cross-validation."
   ]
  },
  {
   "cell_type": "code",
   "execution_count": 16,
   "metadata": {
    "collapsed": false
   },
   "outputs": [
    {
     "name": "stdout",
     "output_type": "stream",
     "text": [
      "C=-21 success rate is 0.7099748642764369\n",
      "C=-20 success rate is 0.7099780412823891\n",
      "C=-19 success rate is 0.70997748063428\n",
      "C=-18 success rate is 0.7099772937515769\n",
      "C=-17 success rate is 0.7099786019304982\n",
      "C=-16 success rate is 0.7099791625786075\n",
      "C=-15 success rate is 0.7099784150477954\n",
      "C=-14 success rate is 0.7099765462207646\n",
      "C=-13 success rate is 0.7099756118072491\n",
      "C=-12 success rate is 0.7099733692148124\n",
      "C=-11 success rate is 0.7099769199861706\n",
      "C=-10 success rate is 0.7099771068688738\n",
      "C=-9 success rate is 0.7099763593380615\n",
      "C=-8 success rate is 0.7099729954494063\n",
      "C=-7 success rate is 0.709980283874826\n",
      "C=-6 success rate is 0.70997505115914\n",
      "C=-5 success rate is 0.7099707528569693\n",
      "C=-4 success rate is 0.7171300423289322\n",
      "C=-3 success rate is 0.751545426513049\n",
      "C=-2 success rate is 0.7782279782094768\n",
      "C=-1 success rate is 0.7958207421112139\n",
      "C=0 success rate is 0.8023950887225633\n",
      "C=1 success rate is 0.803558994197292\n"
     ]
    }
   ],
   "source": [
    "spam_C_results = {}\n",
    "for C in range(-21, 2):\n",
    "    spam_C_results[C] = spam_k_fold(10 ** C)\n",
    "    print(\"C={} success rate is {}\".format(C, spam_C_results[C]))"
   ]
  },
  {
   "cell_type": "code",
   "execution_count": null,
   "metadata": {
    "collapsed": false
   },
   "outputs": [
    {
     "name": "stdout",
     "output_type": "stream",
     "text": [
      "Range 2 - 10\n",
      "C=2 success rate is 0.8054906138162382\n",
      "C=3 success rate is 0.8031719601192313\n"
     ]
    }
   ],
   "source": [
    "spam_C_results = {}\n",
    "print(\"Range 2 - 10\")\n",
    "for C in range(2, 11):\n",
    "    spam_C_results[C] = spam_k_fold(10 ** C)\n",
    "    print(\"C={} success rate is {}\".format(C, spam_C_results[C]))"
   ]
  },
  {
   "cell_type": "markdown",
   "metadata": {},
   "source": [
    "The code was left running overnight, and was only able to process up to C=10E3\n",
    "The best C value seems to be C=10E2 with a sucess rate of 0.80549\n",
    "\n",
    "Below is the same code, but without shuffling in the `KFold`"
   ]
  },
  {
   "cell_type": "code",
   "execution_count": 9,
   "metadata": {
    "collapsed": true
   },
   "outputs": [],
   "source": [
    "def spam_k_fold_no_shuffle(C, k=5):\n",
    "    total_score = 0\n",
    "    kf = KFold(n_splits=k)\n",
    "    for train_index, test_index in kf.split(spam_training_data):\n",
    "        s = SVC(C=C, kernel='linear') \n",
    "        s.fit(np.take(spam_training_data, train_index, 0), np.ravel(np.take(spam_labels, train_index, 0)))\n",
    "        score = s.score(np.take(spam_training_data, test_index, 0), np.take(spam_labels, test_index, 0))\n",
    "        total_score += score\n",
    "\n",
    "    spam_5_fold_avg_score = total_score / k\n",
    "    return spam_5_fold_avg_score"
   ]
  },
  {
   "cell_type": "code",
   "execution_count": 9,
   "metadata": {
    "collapsed": false
   },
   "outputs": [
    {
     "name": "stdout",
     "output_type": "stream",
     "text": [
      "No shuffle\n",
      "C=-21 success rate is 0.7099763593380615\n",
      "C=-20 success rate is 0.7099763593380615\n",
      "C=-19 success rate is 0.7099763593380615\n",
      "C=-18 success rate is 0.7099763593380615\n",
      "C=-17 success rate is 0.7099763593380615\n",
      "C=-16 success rate is 0.7099763593380615\n",
      "C=-15 success rate is 0.7099763593380615\n",
      "C=-14 success rate is 0.7099763593380615\n",
      "C=-13 success rate is 0.7099763593380615\n",
      "C=-12 success rate is 0.7099763593380615\n",
      "C=-11 success rate is 0.7099763593380615\n",
      "C=-10 success rate is 0.7099763593380615\n",
      "C=-9 success rate is 0.7099763593380615\n",
      "C=-8 success rate is 0.7099763593380615\n",
      "C=-7 success rate is 0.7099763593380615\n",
      "C=-6 success rate is 0.7099763593380615\n",
      "C=-5 success rate is 0.7099763593380615\n",
      "C=-4 success rate is 0.7169364318485503\n",
      "C=-3 success rate is 0.7511583924349882\n",
      "C=-2 success rate is 0.7778400097179006\n",
      "C=-1 success rate is 0.7946630037656863\n",
      "C=0 success rate is 0.8020110447677515\n",
      "C=1 success rate is 0.8033642624206918\n"
     ]
    }
   ],
   "source": [
    "spam_C_results_no_shuffle = {}\n",
    "print(\"No shuffle\")\n",
    "for C in range(-21, 2):\n",
    "    spam_C_results_no_shuffle[C] = spam_k_fold_no_shuffle(10 ** C)\n",
    "    print(\"C={} success rate is {}\".format(C, spam_C_results_no_shuffle[C]))"
   ]
  },
  {
   "cell_type": "code",
   "execution_count": 10,
   "metadata": {
    "collapsed": false
   },
   "outputs": [
    {
     "name": "stdout",
     "output_type": "stream",
     "text": [
      "2\n",
      "C=2 success rate is 0.8045205057045944\n"
     ]
    }
   ],
   "source": [
    "spam_C_results_no_shuffle = {}\n",
    "print(\"2\")\n",
    "for C in range(2, 3):\n",
    "    spam_C_results_no_shuffle[C] = spam_k_fold_no_shuffle(10 ** C)\n",
    "    print(\"C={} success rate is {}\".format(C, spam_C_results_no_shuffle[C]))"
   ]
  },
  {
   "cell_type": "markdown",
   "metadata": {},
   "source": [
    "Below are the C values (not in orders of magnitude) with its corresponding accuracy with k-fold cross-validation."
   ]
  },
  {
   "cell_type": "code",
   "execution_count": 10,
   "metadata": {
    "collapsed": false
   },
   "outputs": [
    {
     "name": "stdout",
     "output_type": "stream",
     "text": [
      "Range 1-10\n",
      "C=1 success rate is 0.8020110447677515\n",
      "C=2 success rate is 0.8027843653930612\n",
      "C=3 success rate is 0.8031710257057159\n",
      "C=4 success rate is 0.80297778899074\n",
      "C=5 success rate is 0.8029776021080369\n",
      "C=6 success rate is 0.8035576860183706\n",
      "C=7 success rate is 0.8031708388230128\n",
      "C=8 success rate is 0.8033642624206918\n",
      "C=9 success rate is 0.8033642624206918\n",
      "C=10 success rate is 0.8033642624206918\n"
     ]
    }
   ],
   "source": [
    "print(\"Range 1-10\")\n",
    "for C in range(1, 11):\n",
    "    spam_C_results_no_shuffle[C] = spam_k_fold_no_shuffle(C)\n",
    "    print(\"C={} success rate is {}\".format(C, spam_C_results_no_shuffle[C]))"
   ]
  },
  {
   "cell_type": "markdown",
   "metadata": {},
   "source": [
    "# Problem 5: Kaggle"
   ]
  },
  {
   "cell_type": "markdown",
   "metadata": {},
   "source": [
    "Kaggle Name: cschon"
   ]
  },
  {
   "cell_type": "markdown",
   "metadata": {},
   "source": [
    "## MNIST"
   ]
  },
  {
   "cell_type": "markdown",
   "metadata": {},
   "source": [
    "On the Kaggle MNIST dataset, I got a score of 0.94720.\n"
   ]
  },
  {
   "cell_type": "code",
   "execution_count": 10,
   "metadata": {
    "collapsed": true
   },
   "outputs": [],
   "source": [
    "def mnist(filepath):\n",
    "    data = sio.loadmat(filepath)[\"trainX\"]\n",
    "    np.random.shuffle(data)\n",
    "    order = np.arange(data.shape[1] - 1)\n",
    "    training_data = np.take(data, order, 1)\n",
    "    labels = np.take(data, [-1], 1)\n",
    "    return training_data, labels"
   ]
  },
  {
   "cell_type": "code",
   "execution_count": 13,
   "metadata": {
    "collapsed": false
   },
   "outputs": [],
   "source": [
    "C = 10 ** -6\n",
    "mnist_training_data, mnist_labels = mnist(MNIST_FILEPATH)\n",
    "mnist_svms = mnist_learn(mnist_training_data, mnist_labels, C, [len(mnist_training_data)])"
   ]
  },
  {
   "cell_type": "code",
   "execution_count": 59,
   "metadata": {
    "collapsed": false
   },
   "outputs": [],
   "source": [
    "MNIST_FILEPATH = \"hw01_data/mnist/test.mat\"\n",
    "mnist_test = sio.loadmat(MNIST_FILEPATH)[\"testX\"]\n",
    "mnist_pred = mnist_svms[len(mnist_training_data)].predict(mnist_test).astype(int)"
   ]
  },
  {
   "cell_type": "code",
   "execution_count": 62,
   "metadata": {
    "collapsed": false
   },
   "outputs": [],
   "source": [
    "f = open('mnist.csv', 'w')\n",
    "f.write(\"Id,Category\\n\")\n",
    "i = 0\n",
    "for x in np.nditer(mnist_pred):\n",
    "    f.write(\"{},{}\\n\".format(i, x))\n",
    "    i += 1\n",
    "f.close()"
   ]
  },
  {
   "cell_type": "markdown",
   "metadata": {},
   "source": [
    "## Spam"
   ]
  },
  {
   "cell_type": "markdown",
   "metadata": {},
   "source": [
    "On the Kaggle Spam dataset, I got a score of 0.86031.  \n",
    "To get this score, after discussion with my collaborators, I added features to `featurize.py`. These were counting the frequencies of the words or characters: @, prince, sex, and spam."
   ]
  },
  {
   "cell_type": "code",
   "execution_count": 96,
   "metadata": {
    "collapsed": false
   },
   "outputs": [
    {
     "name": "stdout",
     "output_type": "stream",
     "text": [
      "finished\n"
     ]
    }
   ],
   "source": [
    "C = 2\n",
    "spam_training_data, spam_labels = spam(SPAM_FILEPATH)\n",
    "spam_svc = SVC(C=10**C, kernel='linear')\n",
    "spam_svc.fit(np.take(spam_training_data, np.arange(len(spam_training_data)), 0), \n",
    "             np.ravel(np.take(spam_labels, np.arange(len(spam_training_data)), 0)))\n",
    "print(\"finished\")"
   ]
  },
  {
   "cell_type": "code",
   "execution_count": 97,
   "metadata": {
    "collapsed": false
   },
   "outputs": [],
   "source": [
    "spam_test = sio.loadmat(SPAM_FILEPATH)['test_data']\n",
    "spam_pred = spam_svc.predict(spam_test).astype(int)"
   ]
  },
  {
   "cell_type": "code",
   "execution_count": 98,
   "metadata": {
    "collapsed": false
   },
   "outputs": [],
   "source": [
    "f = open('spam.csv', 'w')\n",
    "f.write(\"Id,Category\\n\")\n",
    "i = 0\n",
    "for x in np.nditer(spam_pred):\n",
    "    f.write(\"{},{}\\n\".format(i, x))\n",
    "    i += 1\n",
    "f.close()"
   ]
  },
  {
   "cell_type": "markdown",
   "metadata": {},
   "source": [
    "## CIFAR-10"
   ]
  },
  {
   "cell_type": "code",
   "execution_count": 19,
   "metadata": {
    "collapsed": true
   },
   "outputs": [],
   "source": [
    "def cifar10(filepath):\n",
    "    data = sio.loadmat(filepath)[\"trainX\"]\n",
    "    np.random.shuffle(data)\n",
    "    order = np.arange(data.shape[1] - 1)\n",
    "    training_data = np.take(data, order, 1)\n",
    "    labels = np.take(data, [-1], 1)\n",
    "    return training_data, labels"
   ]
  },
  {
   "cell_type": "code",
   "execution_count": 20,
   "metadata": {
    "collapsed": true
   },
   "outputs": [],
   "source": [
    "cifar10_training_data, cifar10_labels = cifar10(CIFAR10_FILEPATH)"
   ]
  },
  {
   "cell_type": "code",
   "execution_count": null,
   "metadata": {
    "collapsed": false
   },
   "outputs": [],
   "source": [
    "cifar10_svc = SVC(kernel='linear')\n",
    "cifar10_svc.fit(np.take(cifar10_training_data, np.arange(len(cifar10_training_data)), 0), np.ravel(np.take(cifar10_labels, np.arange(len(cifar10_training_data)), 0)))\n"
   ]
  }
 ],
 "metadata": {
  "anaconda-cloud": {},
  "kernelspec": {
   "display_name": "Python [conda root]",
   "language": "python",
   "name": "conda-root-py"
  },
  "language_info": {
   "codemirror_mode": {
    "name": "ipython",
    "version": 3
   },
   "file_extension": ".py",
   "mimetype": "text/x-python",
   "name": "python",
   "nbconvert_exporter": "python",
   "pygments_lexer": "ipython3",
   "version": "3.5.2"
  }
 },
 "nbformat": 4,
 "nbformat_minor": 1
}
